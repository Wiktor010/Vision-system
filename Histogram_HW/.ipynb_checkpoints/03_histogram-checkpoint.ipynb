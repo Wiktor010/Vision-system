{
 "cells": [
  {
   "cell_type": "markdown",
   "metadata": {
    "pycharm": {
     "name": "#%% md\n"
    }
   },
   "source": [
    "# Histogram obrazu. Wyrównywanie histogramu."
   ]
  },
  {
   "cell_type": "markdown",
   "metadata": {
    "pycharm": {
     "name": "#%% md\n"
    }
   },
   "source": [
    "## Cel ćwiczenia\n",
    "\n",
    "- Zapoznanie z pojęciem histogramu obrazu (w odcieniach szarości i kolorze).\n",
    "- Zapoznanie z metodami modyfikacji histogramu (rozciąganie, wyrównywanie, dopasowywanie)."
   ]
  },
  {
   "cell_type": "markdown",
   "metadata": {
    "pycharm": {
     "name": "#%% md\n"
    }
   },
   "source": [
    "## Histogram\n",
    "\n",
    "- Histogramem obrazu nazywamy wykres słupkowy zdefiniowany następującymi zależnościami:<br>\n",
    "\\begin{equation}\n",
    "h(i) = \\sum_{x=0}^{N-1} \\sum_{y=0}^{M-1} p(i,(x,y))\n",
    "\\end{equation}<br>\n",
    "gdzie:<br>\n",
    "\\begin{equation}\n",
    "p(i) =  \\left\\{\n",
    "  \\begin{array}{l l}\n",
    "    1 & \\quad \\text{gdy} f(x,y) = i\\\\\n",
    "    0 & \\quad \\text{gdy} f(x,y) \\ne i\n",
    "  \\end{array} \\right.\n",
    "\\end{equation}\n",
    "\n",
    "- Inaczej mówiąc, histogram zawiera informacje na temat tego ile pikseli o danym poziomie jasności występuje na obrazie (w przypadku obrazu w odcieniach szarości). Określa się to także rozkładem empirycznym cechy.\n",
    "\n",
    "- Często wykorzystuje się tzw. znormalizowaną postać histogramu  – wszystkie wartości $h(i)$ są dzielone przez liczbę pikseli na obrazie.\n",
    "Otrzymana w ten sposób wielkość to gęstość prawdopodobieństwa wystąpienia na obrazie pikseli o odcieniu $i$.\n",
    "\n",
    "- Histogram można zdefiniować również dla obrazów kolorowych.\n",
    "Otrzymujemy wtedy 3 histogramy – po jednym dla danej składowej: R,G,B (lub HSV, YCbCr, itp.) lub histogram trójwymiarowy.\n",
    "\n",
    "- Histogram jest bardzo użyteczny w przetwarzaniu i analizie obrazów.\n",
    "Wykorzystywany jest przy binaryzacji (szerzej na jednym z kolejnych laboratoriów) oraz do oceny jakości (dynamiki, kontrastu) obrazu.\n",
    "W idealnym przypadku wszystkie poziomy jasności w obrazie powinny być wykorzystane (i to najlepiej w miarę jednolicie)  – obrazowo mówiąc histogram powinien rozciągać się od 0  – 255 (obraz w skali szarości).\n",
    "\n",
    "- W przypadku gdy  wykorzystujemy jedynie fragment dostępnego zakresu (wąski histogram)  lub histogram nie jest jednolity (występują dominujące grupy pikseli) obraz ma dość słaby kontrast.\n",
    "Cechę tę można poprawić stosując tzw. rozciąganie albo wyrównywanie histogramu (ang. *histogram equalization*).</div>"
   ]
  },
  {
   "cell_type": "markdown",
   "metadata": {
    "pycharm": {
     "name": "#%% md\n"
    }
   },
   "source": [
    "## Histogram dla obrazów w odcieniach szarości\n",
    "\n",
    "1. Zaimportuj potrzebne biblioteki: *OpenCV*, *pyplot* z *matplotlib* i *numpy*.\n",
    "        import cv2\n",
    "        from matplotlib import pyplot as plt\n",
    "        import numpy as np\n",
    "2. Wczytaj obrazy *lenaX.bmp* w skali szarości. *X* jest numerem wczytywanego obrazu (1 - 4).\n",
    "        I = cv2.imread('lenaX.bmp', cv2.IMREAD_GRAYSCALE)\n",
    "3. Oblicz histogram wczytanego obrazu wykorzystując funkcję `cv2.calcHist`.\n",
    "    - Pierwszym argumentem jest obraz, dla którego obliczony zostanie histogram.\n",
    "    Należy go przekazać w nawiasie kwadratowym.\n",
    "    - Drugim argumentem jest numer kanału, dla którego ma zostać obliczony histogram.\n",
    "    Również powinien być przekazany w nawiasie kwadratowym.\n",
    "    - Trzeci argument oznacza maskę, czyli obszar, dla którego ma zostać wyznaczony histogram.\n",
    "    Aby obliczyć dla całego obrazu należy przekazać *None*.\n",
    "    - Czwartym argumentem jest rozmiar histogramu (liczba przedziałów).\n",
    "    Argument powinien być w nawiasie kwadratowym. Dla pełnej skali należy przekazać wartość *256*.\n",
    "    - Ostatnim argumentem jest zakres wartości. Dla obrazów typu *uint8* powinien on wynosić *[0, 256]*.\n",
    "    - Funkcja zwraca obliczony histogram.\n",
    "4. Wyświetl wczytane obrazy i ich histogramy w jednym oknie. Użyj `plt.subplot()` w celu stworzenia siatki wykresów.\n",
    "        figLena, axsLena = plt.subplots(2, 4)\n",
    "Rozmiar utworzonego okna można zmienić wykorzystując instrukcję (uwaga w calach -  1 cal to 2.54cm):\n",
    "        figLena.set_size_inches(20, 10)\n",
    "Przykładowe wyświetlenie obrazu:\n",
    "        axsLena[0, 0].imshow(I1, 'gray', vmin=0, vmax=256)\n",
    "        axsLena[0, 0].axis('off')\n",
    "Przykładowe wyświetlenie histogramu:\n",
    "        axsLena[1, 0].plot(H1)\n",
    "        axsLena[1, 0].grid()\n",
    "5. Przeanalizuj (dokładnie) związek histogramu z jasnością i ostrością obrazu (tu rozumianą jako subiektywne odczucie)."
   ]
  },
  {
   "cell_type": "code",
   "execution_count": null,
   "metadata": {
    "pycharm": {
     "name": "#%% Zadanie 1 - wyświetlanie\n"
    }
   },
   "outputs": [],
   "source": [
    "import cv2\n",
    "import os\n",
    "from matplotlib import pyplot as plt\n",
    "import numpy as np\n",
    "\n",
    "if not os.path.exists(\"lena1.bmp\") :\n",
    "    !wget https://raw.githubusercontent.com/vision-agh/poc_sw/master/03_Histogram/lena1.bmp --no-check-certificate\n",
    "\n",
    "if not os.path.exists(\"lena2.bmp\") :\n",
    "    !wget https://raw.githubusercontent.com/vision-agh/poc_sw/master/03_Histogram/lena2.bmp --no-check-certificate\n",
    "\n",
    "if not os.path.exists(\"lena3.bmp\") :\n",
    "    !wget https://raw.githubusercontent.com/vision-agh/poc_sw/master/03_Histogram/lena3.bmp --no-check-certificate\n",
    "\n",
    "if not os.path.exists(\"lena4.bmp\") :\n",
    "    !wget https://raw.githubusercontent.com/vision-agh/poc_sw/master/03_Histogram/lena4.bmp --no-check-certificate\n",
    "\n",
    "#wczytanie obrazkow\n",
    "lena_1 = cv2.imread('lena1.bmp', cv2.IMREAD_GRAYSCALE)\n",
    "lena_2 = cv2.imread('lena2.bmp', cv2.IMREAD_GRAYSCALE)\n",
    "lena_3 = cv2.imread('lena3.bmp', cv2.IMREAD_GRAYSCALE)\n",
    "lena_4 = cv2.imread('lena4.bmp', cv2.IMREAD_GRAYSCALE)\n",
    "\n",
    "#histogram wczytanego obrazku przy pomocy funkcji cv2.calcHist\n",
    "obraz_1 = cv2.calcHist([lena_1],[0],None,[256],[0,256])\n",
    "obraz_2 = cv2.calcHist([lena_2],[0],None,[256],[0,256])\n",
    "obraz_3 = cv2.calcHist([lena_3],[0],None,[256],[0,256])\n",
    "obraz_4 = cv2.calcHist([lena_4],[0],None,[256],[0,256])\n",
    "\n",
    "\n",
    "\n",
    "figLena, axsLena = plt.subplots(4, 2,figsize=(20,20))\n",
    "\n",
    "axsLena[0, 0].imshow(lena_1, 'gray', vmin=0, vmax=256)\n",
    "axsLena[0, 0].axis('off')\n",
    "axsLena[0, 1].plot(obraz_1)\n",
    "axsLena[0, 1].grid()\n",
    "\n",
    "axsLena[1, 0].imshow(lena_2, 'gray', vmin=0, vmax=256)\n",
    "axsLena[1, 0].axis('off')\n",
    "axsLena[1, 1].plot(obraz_2)\n",
    "axsLena[1, 1].grid()\n",
    "\n",
    "axsLena[2, 0].imshow(lena_3, 'gray', vmin=0, vmax=256)\n",
    "axsLena[2, 0].axis('off')\n",
    "axsLena[2, 1].plot(obraz_3)\n",
    "axsLena[2, 1].grid()\n",
    "\n",
    "axsLena[3, 0].imshow(lena_4, 'gray', vmin=0, vmax=256)\n",
    "axsLena[3, 0].axis('off')\n",
    "axsLena[3, 1].plot(obraz_4)\n",
    "axsLena[3, 1].grid()\n"
   ]
  },
  {
   "cell_type": "code",
   "execution_count": null,
   "metadata": {},
   "outputs": [],
   "source": [
    "#Komentarz\n",
    "#Jeżeli mamy do czynienia z ceimniejszym obrazem tym więcej mamy punktów obrazu (pikseli) osiąga mniejsze wartości.\n",
    "#Jeżeli obraz jest jaśniejszy tym więcej pikselki osiąga większe wartości \n",
    "#Jeżeli zakres histogramu, który przyjmuje wartości jest węższy, tym mniej obraz jest mniej ostry ciężko dostrzec szczegóły"
   ]
  },
  {
   "cell_type": "markdown",
   "metadata": {
    "pycharm": {
     "name": "#%% md\n"
    }
   },
   "source": [
    "## Rozciąganie histogramu\n",
    "\n",
    "Najprostszą metodą poprawienia jakości obrazu jest tzw. rozciągnięcie histogramu.\n",
    "Polega na przeskalowaniu wartości pikseli w obrazie tak, aby wykorzystać cały dostępny zakres [0-255] (oczywiście w przypadku obrazów w odcieniach szarości w reprezentacji 8-bitowej).\n",
    "\n",
    "1. Wczytaj obraz *hist1.bmp* w skali szarości.\n",
    "Oblicz i wyświetl histogram rozpatrywanego obrazu (na wspólnym rysunku z obrazem).\n",
    "Zwróć uwagę na ilość widocznych szczegółów.\n",
    "2. Rozciągnij histogram obrazu. W tym celu można wykorzystać funkcję `cv2.normalize`.\n",
    "    - Pierwszym argumentem funkcji jest obraz poddawany operacji.\n",
    "    - Drugim argumentem jest tablica do której zostanie wpisany wynik.\n",
    "    Należy ją najpierw zainicjalizować.\n",
    "    Najlepiej zrobić to funkcją `np.zeros`, której pierwszym argumentem jest rozmiar obrazu (`I.shape`), a drugim typ danych (`uint8`).\n",
    "    Można również przekazać `None`, a wynik przypisać do nowej zmiennej.\n",
    "    - Trzecim argumentem jest minimalna wartość po normalizacji.\n",
    "    - Czwartym argumentem jest wartość maksymalna po normalizacji.\n",
    "    - Ostatnim argumentem jest typ wykorzystanej normy (uogólnienie pojęcia długości wektora).\n",
    "    Należy wykorzystać normę `cv2.NORM_MINMAX`.\n",
    "3. Rezultat operacji wyświetl (obraz i jego histogram).\n",
    "4. Czy ilość \"widocznych\" szczegółów uległa zmianie?"
   ]
  },
  {
   "cell_type": "code",
   "execution_count": null,
   "metadata": {
    "pycharm": {
     "name": "#%% Zadanie 2 - rozciąganie\n"
    }
   },
   "outputs": [],
   "source": [
    "import cv2\n",
    "import os\n",
    "from matplotlib import pyplot as plt\n",
    "import numpy as np\n",
    "\n",
    "if not os.path.exists(\"hist1.bmp\") :\n",
    "    !wget https://raw.githubusercontent.com/vision-agh/poc_sw/master/03_Histogram/hist1.bmp --no-check-certificate\n",
    "\n",
    "if not os.path.exists(\"hist2.bmp\") :\n",
    "    !wget https://raw.githubusercontent.com/vision-agh/poc_sw/master/03_Histogram/hist2.bmp --no-check-certificate\n",
    "\n",
    "if not os.path.exists(\"hist3.bmp\") :\n",
    "    !wget https://raw.githubusercontent.com/vision-agh/poc_sw/master/03_Histogram/hist3.bmp --no-check-certificate\n",
    "\n",
    "if not os.path.exists(\"hist4.bmp\") :\n",
    "    !wget https://raw.githubusercontent.com/vision-agh/poc_sw/master/03_Histogram/hist4.bmp --no-check-certificate\n",
    "\n",
    "hist1 = cv2.imread(\"hist1.bmp\", cv2.IMREAD_GRAYSCALE)\n",
    "\n",
    "new_hist1 = cv2.calcHist([hist1],[0],None,[256],[0,256])\n",
    "\n",
    "fig1, (axs1,axs2) = plt.subplots(1,2,figsize=(20,10))\n",
    "\n",
    "axs1.imshow(hist1, 'gray', vmin=0, vmax=256)\n",
    "axs1.axis('off')\n",
    "axs2.plot(new_hist1)\n",
    "axs2.grid()\n",
    "\n",
    "#Rozciągnięcie histogramu\n",
    "tablica = np.zeros(new_hist1.shape,'uint8')\n",
    "new_hist2 = cv2.normalize(hist1,tablica,0,255,cv2.NORM_MINMAX)\n",
    "\n",
    "#Obliczenie histogramu\n",
    "new_hist3=cv2.calcHist([new_hist2],[0],None,[256],[0,256])\n",
    "\n",
    "\n",
    "fig1, (axs1,axs2) = plt.subplots(1,2,figsize=(20,10))\n",
    "axs1.imshow(new_hist2, 'gray', vmin=0, vmax=256)\n",
    "axs1.axis('off')\n",
    "axs2.plot(new_hist3)\n",
    "axs2.grid()\n",
    "\n"
   ]
  },
  {
   "cell_type": "code",
   "execution_count": null,
   "metadata": {},
   "outputs": [],
   "source": [
    "#Komentarz\n",
    "#Rozciągnięcie histogramu powoduje zwiększenie ilości szczegółów. \n",
    "#Operacja ta nie jest uniwersalna i przypadku niektórych obrazów może nie przynieść zadowalajacych rezultatów"
   ]
  },
  {
   "cell_type": "markdown",
   "metadata": {
    "pycharm": {
     "name": "#%% md\n"
    }
   },
   "source": [
    "## Wyrównywanie histogramu\n",
    "\n",
    "<div style=\"text-align: justify\">\n",
    "Bardziej zaawansowaną metodą jest tzw. wyrównywanie histogramu (ang. *histogram equalization – HE*).\n",
    "Idea jest następująca: z punktu widzenia lepszego wykorzystania dostępnych poziomów jasności pożądane jest rozciągnięcie \"szczytów\" histogramu, a~skompresowanie \"dolin\" tak, aby taka sama liczba pikseli reprezentowana była przez każdy z dostępnych poziomów jasności (a przynjamniej przybliżona).\n",
    "Warto zwrócić uwagę, że takie przekształcenie powoduje częściową utratę informacji o szczegółach w obszarach \"dolin\".\n",
    "Inaczej mówiąc, dążymy do sytuacji, aby histogram był względnie jednostajny.\n",
    "Operacją, która pozwala wykonać wyrównywanie histogramu, jest przekształcenie LUT z funkcją przejścia w postaci histogramu skumulowanego danego obrazu.</div><br>\n",
    "\n",
    "<div style=\"text-align: justify\">\n",
    "Histogram skumulowany to funkcja obliczona na podstawie histogramu.\n",
    "Jej pierwszy element to liczba pikseli o odcieniu $0$.\n",
    "Kolejne wartości to liczba pikseli o odcieniach od $0$ do $n$.</div>\n",
    "\n",
    "\\begin{equation}\n",
    "C(n) = \\sum_{i=0}^{n} h(i)\n",
    "\\end{equation}\n",
    "\n",
    "<div style=\"text-align: justify\">\n",
    "Jeżeli histogram jest w postaci znormalizowanej (gęstość rozkładu prawdopodobieństwa) to histogram skumulowany stanowi dystrybuantę rozkładu prawdopodobieństwa.</div><br>\n",
    "\n",
    "1. Wyznacz histogram skumulowany dla obrazu *hist1.bmp*.\n",
    "W tym celu wykorzystaj metodę `cumsum` dla histogramu wczytanego obrazu.\n",
    "Nie przyjmuje ona żadnych argumentów, a zwraca skumulowane wartości tablicy, dla której została użyta.\n",
    "Histogram należy wyliczyć dla **obrazka wejściowego**, a nie dla wyniku rozciągania.\n",
    "2. Histogram skumulowany wyświetl razem z histogramem zwykłym na jednym wykresie (nie obok siebie).\n",
    "Na potrzeby wyświetlenia przeskaluj histogram skumulowany tak, by miał taką samą wartość maksymalną jak zwykły histogram.\n",
    "W tym celu wykorzystaj metodę `max`.\n",
    "3. Wyświetlenie kilku linii na jednym wykresie może być zrealizowane w następujący sposób:\n",
    "        figHistCum, axsHistCum = plt.subplots()\n",
    "\n",
    "        axsHistCum.plot(HHist)\n",
    "        axsHistCum.plot(CHistNorm)\n",
    "        axsHistCum.grid()\n",
    "4. Teraz zaimplementuj klasyczny algorytm wyrównywania histogramu.\n",
    "Wykorzystać należy obliczony histogram skumulowany.\n",
    "Należy go przeskalować w taki sposób aby na jego podstawie zrealizować przekształcenie LUT, czyli do zakresu 0 - 255.\n",
    "\n",
    ">Uwaga. Opisany algorytm wyrównywania histogramu jest wersją uproszczoną.\n",
    ">W wersji pełnej należy podczas skalowania tablicy przekodowań LUT pominąć elementy równe *0*.\n",
    ">\n",
    ">W tym celu należy wykorzystać funkcje `np.ma.masked_equal` i `np.ma.filled`.\n",
    ">Pierwsza służy do ukrywania elementów tablicy, natomiast druga zamienia ukryte elementy na podaną wartość.\n",
    ">W tym przypadku elementem ukrywanym i wpisywaną wartością byłoby *0*.\n",
    "\n",
    "5. Na kolejnym rysunku wyświetl obrazek po przekształceniu, jego histogram oraz histogram skumulowany.\n",
    "Co szczególnego można powiedzieć o jego histogramie i histogramie skumulowanym?\n",
    "6. W bibliotece *OpenCV* dostępna jest funkcja wykonująca wyrównywanie histogramu `cv2.equalizeHist`.\n",
    "Jej argumentem jest obraz, którego histogram zostanie wyrównany. Zwraca natomiast obraz wynikowy.\n",
    "Na kolejnym rysunku wyświetl wynik funkcji, jego histogram oraz histogram skumulowany.\n",
    "7. W wykorzystywanej bibliotece zaimplementowana jest również metoda adaptacyjnego wyrównywania histogramu algorytmem CLAHE (ang. *Contrast Limited Adaptive Histogram Equalization*}.\n",
    "   Kilka słów wyjaśnienia.\n",
    "   Wadą poznanej metody HE jest jej \"globalność\" rozumiana jako nieuwzględnianie lokalnych właściwości obrazu.\n",
    "   Dlatego też powstała metoda adaptacyjnego wyrównywania histogramu (AHE).\n",
    "   Jest ona spotykana w dwóch wariantach:\n",
    "   - dla każdego piksela niezależnie, w pewnym jego otoczeniu, wyznaczany jest histogram i przeprowadzane wyrównywanie.\n",
    "     Jak nietrudno się domyślić rozwiązanie jest dość kosztowne obliczeniowo.\n",
    "   - obraz wejściowy dzielony jest na nienachodzące na siebie prostokątne okna.\n",
    "     W każdym z okien obliczany jest histogram i przeprowadzane jest wyrównywanie.\n",
    "     W celu eliminacji błędów na granicy okien, stosuje się interpolację.\n",
    "\n",
    "   Metoda AHE ma jednak tą wadę, że w obszarach jednorodnych wzmacnia szum.\n",
    "   Dlatego też zaproponowano rozwiązanie CLAHE, które zakłada ograniczenie kontrastu (CL).\n",
    "   W metodzie definiuje się maksymalną wartość danego przedziału histogramu (próg ograniczenia kontrastu).\n",
    "   Piksele, które przekraczają próg są następnie równomiernie rozdzielane pomiędzy poszczególne przedziały.\n",
    "   Bardziej szczegółowy opis obu metod dostępny jest na [Wikipedii](https://en.wikipedia.org/wiki/Adaptive_histogram_equalization).\n",
    "\n",
    "8.W celu użycia algorytmu należy wywołać funkcję `cv2.createCLAHE`.\n",
    "    - Pierwszym parametrem jest próg ograniczenia kontrastu.\n",
    "    - Drugi parametr definiuje na ile prostokątów zostanie podzielony obraz w rzęch i kolumnach.\n",
    "    - Zwracany jest zainicjalizowany *smart pointer* do klasy `cv::CLAHE`.\n",
    "9. Aby wykonać wyrównywanie należy użyć metody `apply`.\n",
    "Jej argumentem jest obraz wejściowy. Zwracany jest obraz o zmodyfikowanym histogramie.\n",
    "10. Przetestuj różne parametry algorytmu CLAHE.\n",
    "11. W kolejnym etapie należy przetestować operacje (rozciąganie, wyrównywanie (HE) i adaptacyjne wyrównywanie CLAHE)  na histogramie dla obrazów rzeczywistych. *hist2.bmp*, *hist3.bmp*, *hist4.jpg*.\n",
    "W jednym oknie wyświetl: obraz oryginalny, rozciąganie, wyrównywanie HE oraz wyrównywanie CLAHE."
   ]
  },
  {
   "cell_type": "code",
   "execution_count": null,
   "metadata": {
    "pycharm": {
     "name": "#%% Zadanie 3 - histogram skumulowany\n"
    }
   },
   "outputs": [],
   "source": [
    "import cv2\n",
    "hist1 = cv2.imread('hist1.bmp', cv2.IMREAD_GRAYSCALE)\n",
    "\n",
    "hist_cumsum = new_hist1.cumsum()\n",
    "hist_cumsum_normalized = cv2.normalize(hist_cumsum, None, 0, new_hist1.max(), cv2.NORM_MINMAX)\n",
    "\n",
    "figHistCum, axsHistCum = plt.subplots()\n",
    "\n",
    "axsHistCum.plot(new_hist1)\n",
    "axsHistCum.plot(hist_cumsum_normalized)\n",
    "axsHistCum.grid()"
   ]
  },
  {
   "cell_type": "code",
   "execution_count": null,
   "metadata": {},
   "outputs": [],
   "source": [
    "#zaimplementuj klasyczny algorytm wyrównywania histogramu\n",
    "histcum_lut=cv2.normalize(hist_cumsum, None, 0, 255, cv2.NORM_MINMAX)\n",
    "lut_histogram = cv2.LUT(hist1, histcum_lut)#operacja LUT\n",
    "\n",
    "histogram = cv2.calcHist([lut_histogram], [0], None, [256], [0,256])\n",
    "histogram_cumsum = histogram.cumsum()\n",
    "\n",
    "f, (ax1,ax2,ax3) = plt.subplots(1, 3, figsize=(15, 7))\n",
    "ax1.imshow(lut_histogram, 'gray', vmin=0, vmax=256)\n",
    "ax1.axis('off')\n",
    "ax2.plot(histogram)\n",
    "ax2.grid()\n",
    "ax3.plot(histogram_cumsum)\n",
    "ax3.grid()\n",
    "ax1.set_title('Obraz')\n",
    "ax2.set_title('Histogram')\n",
    "ax3.set_title('Histogram skumulowany')"
   ]
  },
  {
   "cell_type": "code",
   "execution_count": null,
   "metadata": {},
   "outputs": [],
   "source": [
    "#Komentarz\n",
    "#Jeżeli chodzi o histogram skumulowany to w pewnym przybliżeniu przypomina linię prostą, natomiast zwykły histogram dla \n",
    "#metody wyrównania historamu wygląda tak samo jak dla operacji rozciągania histogramu."
   ]
  },
  {
   "cell_type": "code",
   "execution_count": null,
   "metadata": {
    "pycharm": {
     "name": "#%% Zadanie 3 - wyrównywanie\n"
    }
   },
   "outputs": [],
   "source": [
    "#6\n",
    "his=cv2.equalizeHist(hist1) \n",
    "\n",
    "histogram = cv2.calcHist([his], [0], None, [256], [0,256])\n",
    "histogram_cumsum = histogram.cumsum()\n",
    "\n",
    "f, (ax1,ax2,ax3) = plt.subplots(1, 3, figsize=(15, 7))\n",
    "ax1.imshow(his, 'gray', vmin=0, vmax=256)\n",
    "ax1.axis('off')\n",
    "ax2.plot(histogram)\n",
    "ax2.grid()\n",
    "ax3.plot(histogram_cumsum)\n",
    "ax3.grid()\n",
    "ax1.set_title('Obraz')\n",
    "ax2.set_title('Histogram')\n",
    "ax3.set_title('Histogram skumulowany')\n"
   ]
  },
  {
   "cell_type": "code",
   "execution_count": null,
   "metadata": {
    "pycharm": {
     "name": "#%% Zadanie 3 - wyrównywanie OpenCV\n"
    }
   },
   "outputs": [],
   "source": [
    "his_CLAHE = cv2.createCLAHE(clipLimit =30, tileGridSize = (6, 6)) #cv2.createCLAHE\n",
    "his_CLAHE = his_CLAHE.apply(hist1)#wyrównanie\n",
    "\n",
    "histogram = cv2.calcHist([his_CLAHE], [0], None, [256], [0,256])\n",
    "histogram_cumsum = histogram.cumsum()\n",
    "\n",
    "f, (ax1,ax2,ax3) = plt.subplots(1, 3, figsize=(18, 4))\n",
    "ax1.imshow(his_CLAHE, 'gray', vmin=0, vmax=256)\n",
    "ax1.axis('off')\n",
    "ax2.plot(histogram)\n",
    "ax2.grid()\n",
    "ax3.plot(histogram_cumsum)\n",
    "ax3.grid()\n",
    "ax1.set_title('Obraz')\n",
    "ax2.set_title('Histogram')\n",
    "ax3.set_title('Histogram skumulowany')"
   ]
  },
  {
   "cell_type": "code",
   "execution_count": null,
   "metadata": {
    "pycharm": {
     "name": "#%% Zadanie 3 - CLAHE\n"
    }
   },
   "outputs": [],
   "source": [
    "#11\n",
    "hist1 = cv2.imread('hist1.bmp', cv2.IMREAD_GRAYSCALE)\n",
    "hist2 = cv2.imread(\"hist2.bmp\", cv2.IMREAD_GRAYSCALE)\n",
    "hist3 = cv2.imread(\"hist3.bmp\", cv2.IMREAD_GRAYSCALE)\n",
    "hist4 = cv2.imread(\"hist4.bmp\", cv2.IMREAD_GRAYSCALE)\n",
    "\n",
    "def dsds(image,cliplim,tilegride):\n",
    " \n",
    "    image_n = cv2.normalize(image, None, 0, 255, cv2.NORM_MINMAX) #rozciąganie\n",
    "    \n",
    "    \n",
    "    histogram = cv2.calcHist([image_n], [0], None, [256], [0,256])\n",
    "    \n",
    "    histogram_cumsum = histogram.cumsum()\n",
    "\n",
    "    fig1, (ax1,ax2,ax3) = plt.subplots(1, 3, figsize=(20, 7))\n",
    "    \n",
    "    ax1.imshow(image_n, 'gray', vmin=0, vmax=256)\n",
    "    ax1.axis('off')\n",
    "    ax2.plot(histogram)\n",
    "    ax2.grid()\n",
    "    ax3.plot(histogram_cumsum)\n",
    "    ax3.grid()\n",
    "    ax1.set_title('Obraz')\n",
    "    ax2.set_title('Histogram')\n",
    "    ax3.set_title('Histogram skumulowany')\n",
    "\n",
    "    equalizer = cv2.equalizeHist(image)  #wyrównanie\n",
    "    histogram = cv2.calcHist([equalizer], [0], None, [256], [0,256])\n",
    "    histogram_cumsum = histogram.cumsum()\n",
    "    \n",
    "    fig2, (ax1,ax2,ax3) = plt.subplots(1, 3, figsize=(20, 7))\n",
    "    ax1.imshow(equalizer, 'gray', vmin=0, vmax=256)\n",
    "    ax1.axis('off')\n",
    "    ax2.plot(histogram)\n",
    "    ax2.grid()\n",
    "    ax3.plot(histogram_cumsum)\n",
    "    ax3.grid()\n",
    "    ax1.set_title('Obraz')\n",
    "    ax2.set_title('Histogram')\n",
    "    ax3.set_title('Histogram skumulowany')\n",
    "    \n",
    "    clahe = cv2.createCLAHE(cliplim, tilegride) #adaptacyjne wyrównanie\n",
    "    clahe = clahe.apply(image)\n",
    "    histogram = cv2.calcHist([clahe], [0], None, [256], [0,256])\n",
    "    histogram_cumsum = histogram.cumsum()\n",
    "    \n",
    "    fig3, (ax1,ax2,ax3) = plt.subplots(1, 3, figsize=(20, 7))\n",
    "    ax1.imshow(clahe, 'gray', vmin=0, vmax=256)\n",
    "    ax1.axis('off')\n",
    "    ax2.plot(histogram)\n",
    "    ax2.grid()\n",
    "    ax3.plot(histogram_cumsum)\n",
    "    ax3.grid()\n",
    "    ax1.set_title('Obraz')\n",
    "    ax2.set_title('Histogram')\n",
    "    ax3.set_title('Histogram skumulowany')\n",
    "    \n",
    "dsds(hist2, 40, (6,7))\n",
    "dsds(hist3, 20, (6,7))\n",
    "dsds(hist4, 35, (6,7))"
   ]
  },
  {
   "cell_type": "markdown",
   "metadata": {
    "pycharm": {
     "name": "#%% md\n"
    }
   },
   "source": [
    "## Histogram dla obrazów kolorowych i jego wyrównywanie\n",
    "\n",
    "1. Wczytaj obraz *lenaRGB.bmp*.\n",
    "2. Wykonaj konwersję przestrzeni barw z BGR do RGB.\n",
    "3. Wyświetl wczytany obraz oraz histogram dla każdej składowej przestrzeni barw.\n",
    "W tym celu można użyć drugiego argumentu wykorzystywanej funkcji (numer kanału).\n",
    "4. Wykonaj wyrównywanie dla każdej składowej obrazu.\n",
    "Połącz otrzymane składowe w nowy obraz i wyświetl go.\n",
    "Jaka jest zasadnicza wada takiego podejścia?\n",
    "5. Przekształć obraz wejściowy do przestrzeni HSV (flaga `cv2.COLOR_BGR2HSV`).\n",
    "Wyświetl histogramy poszczególnych składowych.\n",
    "Manipulacji dokonujemy na składowej odpowiadającej za jasność, czyli V.\n",
    "Wykonaj wyrównywanie histogramu dla tej składowej.\n",
    "Dokonaj podmiany składowej V i wyświetl rezultat operacji.\n",
    "Uprzednio przeprowadź konwersję HSV->RGB (flaga `cv2.COLOR_HSV2RGB`).\n",
    "6. Wykonaj te same operacje dla obrazu *jezioro.jpg*."
   ]
  },
  {
   "cell_type": "code",
   "execution_count": null,
   "metadata": {
    "pycharm": {
     "name": "#%% Zadanie 4 - histogram\n"
    }
   },
   "outputs": [],
   "source": [
    "#Wyświelenie obrazu oraz histogramu dla każdej składowej\n",
    "if not os.path.exists(\"lenaRGB.bmp\") :\n",
    "    !wget https://raw.githubusercontent.com/vision-agh/poc_sw/master/03_Histogram/lenaRGB.bmp --no-check-certificate\n",
    "\n",
    "if not os.path.exists(\"jezioro.jpg\") :\n",
    "    !wget https://raw.githubusercontent.com/vision-agh/poc_sw/master/03_Histogram/jezioro.jpg --no-check-certificate\n",
    "\n",
    "lena_1 = cv2.imread(\"lenaRGB.bmp\")\n",
    "lena_2 = cv2.cvtColor(lena_1, cv2.COLOR_BGR2RGB)\n",
    "\n",
    "hist_R=cv2.calcHist([lena_2],[0],None,[256],[0,256])\n",
    "hist_G=cv2.calcHist([lena_2],[1],None,[256],[0,256])\n",
    "hist_B=cv2.calcHist([lena_2],[2],None,[256],[0,256])\n",
    "\n",
    "f,(ax1,ax2)=plt.subplots(2,2,figsize=(10,7))\n",
    "ax1[0].imshow(lena_2, vmin=0, vmax=256)\n",
    "ax1[0].axis('off')\n",
    "ax2[0].plot(hist_R)\n",
    "ax2[0].grid()\n",
    "ax1[1].plot(hist_G)\n",
    "ax1[1].grid()\n",
    "ax2[1].plot(hist_B)\n",
    "ax2[1].grid()"
   ]
  },
  {
   "cell_type": "code",
   "execution_count": null,
   "metadata": {
    "pycharm": {
     "name": "#%% Zadanie 4 - wyrównanie\n"
    }
   },
   "outputs": [],
   "source": [
    "#Wykonanie wyrównywania dla każdej składowej obrazu.\n",
    "lena_color_1 = cv2.equalizeHist(lena_2[:,:,0])\n",
    "lena_color_2 = cv2.equalizeHist(lena_2[:,:,1])\n",
    "lena_color_3 = cv2.equalizeHist(lena_2[:,:,2])\n",
    "\n",
    "#Połączenie otrzymanych składowych w nowy obraz i wyświetlenie go\n",
    "nowy = np.zeros((512, 512, 3))\n",
    "nowy[:,:,0] = lena_color_1\n",
    "nowy[:,:,1] = lena_color_2\n",
    "nowy[:,:,2] = lena_color_3\n",
    "\n",
    "new_image = cv2.normalize(nowy, None, 0, 255, cv2.NORM_MINMAX)\n",
    "new_image = new_image.astype('uint8')\n",
    "\n",
    "plt.imshow(new_image)\n",
    "plt.xticks([])\n",
    "plt.yticks([])\n",
    "plt.show"
   ]
  },
  {
   "cell_type": "code",
   "execution_count": null,
   "metadata": {},
   "outputs": [],
   "source": [
    "#Komentarz\n",
    "#Obraz stał się bradziej wyrazisty oraz jego kolory nabrały nasycenia"
   ]
  },
  {
   "cell_type": "code",
   "execution_count": null,
   "metadata": {
    "pycharm": {
     "name": "#%% Zadanie 4 - HSV histogram\n"
    }
   },
   "outputs": [],
   "source": [
    "#Konwersja HSV\n",
    "lenaHSV = cv2.cvtColor(lena_1, cv2.COLOR_BGR2HSV)\n",
    "\n",
    "#Wyświetlenie poszczególnych składowych histogramów \n",
    "histogramHSV1=cv2.calcHist([lenaHSV], [0], None, [256], [0,256])\n",
    "histogramHSV2=cv2.calcHist([lenaHSV], [1], None, [256], [0,256])\n",
    "histogramHSV3=cv2.calcHist([lenaHSV], [2], None, [256], [0,256])\n",
    "\n",
    "f, (ax1, ax2, ax3) = plt.subplots(1, 3, figsize=(18,4))\n",
    "ax1.plot(histogramHSV1)\n",
    "ax1.grid()\n",
    "ax2.plot(histogramHSV2)\n",
    "ax2.grid()\n",
    "ax3.plot(histogramHSV3)\n",
    "ax3.grid()\n",
    "plt.show()\n",
    "\n",
    "#Wyrównanie\n",
    "lenaHSV_norm = cv2.equalizeHist(lenaHSV[:,:,2])\n",
    "lenaHSV[:,:,2] = lenaHSV_norm\n",
    "\n",
    "#Konwersja HSV->RGB\n",
    "lena_conv = cv2.cvtColor(lenaHSV, cv2.COLOR_HSV2RGB)\n",
    "lena_RGB = cv2.normalize(lena_conv, None, 0, 255, cv2.NORM_MINMAX)\n",
    "lena_RGB = lena_RGB.astype('uint8')\n",
    "\n",
    "plt.imshow(lena_RGB)\n",
    "plt.xticks([])\n",
    "plt.yticks([])\n",
    "plt.show()\n",
    "\n"
   ]
  },
  {
   "cell_type": "code",
   "execution_count": null,
   "metadata": {
    "pycharm": {
     "name": "#%% Zadanie 4 - HSV wyrównanie\n"
    }
   },
   "outputs": [],
   "source": [
    "#jezioro\n",
    "if not os.path.exists(\"jezioro.jpg\") :\n",
    "    !wget https://raw.githubusercontent.com/vision-agh/poc_sw/master/03_Histogram/jezioro.jpg --no-check-certificate\n",
    "\n",
    "jezioroBGR = cv2.imread(\"jezioro.jpg\")\n",
    "jezioroRGB = cv2.cvtColor(jezioroBGR, cv2.COLOR_BGR2RGB)\n",
    "\n",
    "\n",
    "his1 = cv2.calcHist([jezioroRGB], [0], None, [256], [0,256])\n",
    "his2 = cv2.calcHist([jezioroRGB], [1], None, [256], [0,256])\n",
    "his3 = cv2.calcHist([jezioroRGB], [2], None, [256], [0,256])\n",
    "\n",
    "\n",
    "f, (axj1,axj2) = plt.subplots(2,2,figsize=(8,10))\n",
    "axj1[0].imshow(jezioroRGB, vmin=0, vmax=256)\n",
    "axj1[0].axis('off')\n",
    "axj2[0].plot(his1)\n",
    "axj2[0].grid()\n",
    "axj1[1].plot(his2)\n",
    "axj1[1].grid()\n",
    "axj2[1].plot(his3)\n",
    "axj2[1].grid()"
   ]
  },
  {
   "cell_type": "code",
   "execution_count": null,
   "metadata": {},
   "outputs": [],
   "source": [
    "jezioro_1=cv2.equalizeHist(jezioroRGB[:,:,0])\n",
    "jezioro_2=cv2.equalizeHist(jezioroRGB[:,:,1])\n",
    "jezioro_3=cv2.equalizeHist(jezioroRGB[:,:,2])\n",
    "\n",
    "jezioro = np.zeros((482,640,3))\n",
    "jezioro[:,:,0] = jezioro_1\n",
    "jezioro[:,:,1] = jezioro_2\n",
    "jezioro[:,:,2] = jezioro_3\n",
    "\n",
    "jezioro=cv2.normalize(jezioro, None, 0, 255, cv2.NORM_MINMAX)\n",
    "jezioro = jezioro.astype('uint8')\n",
    "\n",
    "plt.imshow(jezioro)\n",
    "plt.xticks([])\n",
    "plt.yticks([])\n",
    "plt.show"
   ]
  },
  {
   "cell_type": "code",
   "execution_count": null,
   "metadata": {},
   "outputs": [],
   "source": [
    "jezioroHSV = cv2.cvtColor(jezioroBGR, cv2.COLOR_BGR2HSV)\n",
    "\n",
    "histogramHSV1 = cv2.calcHist([jezioroHSV], [0], None, [256], [0,256])\n",
    "histogramHSV2 = cv2.calcHist([jezioroHSV], [1], None, [256], [0,256])\n",
    "histogramHSV3 = cv2.calcHist([jezioroHSV], [2], None, [256], [0,256])\n",
    "\n",
    "f, (ax1, ax2, ax3) = plt.subplots(1, 3, figsize=(20,10))\n",
    "ax1.plot(histogramHSV1)\n",
    "ax1.grid()\n",
    "ax2.plot(histogramHSV2)\n",
    "ax2.grid()\n",
    "ax3.plot(histogramHSV3)\n",
    "ax3.grid()\n",
    "plt.show()\n",
    "\n",
    "\n",
    "jezioroHSV_norm = cv2.equalizeHist(jezioroHSV[:,:,2])\n",
    "jezioroHSV[:,:,2] = jezioroHSV_norm\n",
    "\n",
    "jezioro_norm1 = cv2.cvtColor(jezioroHSV, cv2.COLOR_HSV2RGB)\n",
    "jezioro_norm_RGB = cv2.normalize(jezioro_norm1, None, 0, 255, cv2.NORM_MINMAX)\n",
    "jezioro_norm_RGB = jezioro_norm_RGB.astype('uint8')\n",
    "\n",
    "plt.imshow(jezioro_norm_RGB)\n",
    "plt.xticks([])\n",
    "plt.yticks([])\n",
    "plt.show()"
   ]
  },
  {
   "cell_type": "code",
   "execution_count": null,
   "metadata": {},
   "outputs": [],
   "source": []
  }
 ],
 "metadata": {
  "kernelspec": {
   "display_name": "Python 3",
   "language": "python",
   "name": "python3"
  },
  "language_info": {
   "codemirror_mode": {
    "name": "ipython",
    "version": 3
   },
   "file_extension": ".py",
   "mimetype": "text/x-python",
   "name": "python",
   "nbconvert_exporter": "python",
   "pygments_lexer": "ipython3",
   "version": "3.8.8"
  }
 },
 "nbformat": 4,
 "nbformat_minor": 4
}
