{
 "cells": [
  {
   "cell_type": "markdown",
   "metadata": {},
   "source": [
    "# Instrukcja - Transformacja Hougha\n",
    "\n",
    "### Cel:\n",
    "- zapoznanie z transformacją Hougha dla pojedynczego punktu,\n",
    "- kilku punktów, prostych figur\n",
    "- wykorzystanie transformacji Hougha do detekcji linii prostych na rzeczywistym obrazie\n",
    "- transformacja Hougha w przestrzeni ab\n",
    "\n",
    "### Transformacja Hougha\n",
    "\n",
    "Transformacja Hougha dla prostych jest metodą detekcji współliniowych punktów. Każda prosta może być jednoznacznie przedstawiona za pomocą dwóch parametrów. Przestrzeń tych parametrów to przestrzeń Hougha. Najczęściej wykorzystywanymi parametrami w tej metodzie są współczynniki ρ,θ\n",
    "\n",
    "opisujące równanie prostej w postaci normalnej:\n",
    "\n",
    "ρ=x⋅cos(θ)+y⋅sin(θ)\n",
    "\n",
    "gdzie: ρ - promień wodzący, θ - kąt pomiędzy ρ a osią OX.\n",
    "\n",
    "Własności transformacji Hougha:\n",
    "- prostej w przestrzeni kartezjańskiej odpowiada punkt w przestrzeni Hougha\n",
    "- pękowi prostych przechdzących przez punkt w przestrzeni kartezjańskiej odpowiada krzywa sinusoidalna w przestrzeni Hougha\n",
    "- punkty leżące na tej samej prostej (w przestrzeni kartezjańskiej) korespondują z sinusoidami przechodzącymi przez wspólny punkt w przestrzeni Hougha.\n",
    "\n",
    "Metoda wyliczania transformacji Hougha składa się z następujących kroków:\n",
    "- przez każdy badany (różny od zera) punkt obrazu prowadzony jest pęk prostych, przechodzących przez ten punkt\n",
    "- każda z tych prostych transformowana jest do przestrzeni Hougha i tworzy tam punkt o współrzędnych ρ,θ\n",
    "- w ten sposób, każdy punkt obrazu pierwotnego (pęk prostych) jest odwzorowany w sinusoidalną krzywą w przestrzeni Hougha\n",
    "\n",
    "Przestrzeń Hougha jest przestrzenią akumulacyjną tzn. punkty sinusoidalnych krzywych, wygenerowanych dla punktów obrazu pierwotnego dodają się w miejscach, w których krzywe te przecinają się. Powstałe w ten sposób (w przestrzeni Hougha) maksima odpowiadają zbiorom punktów, należących do jednej prostej. Współrzędne ρ,θ\n",
    "tego maksimum jednoznacznie określają położenie prostej na obrazie pierwotnym.\n",
    "\n",
    "### Transformacja Hougha dla małej liczby punktów.\n",
    "   1. Uruchom poniższy kod. W tablicy `im` wskaż jeden punkt, dla którego ma zostać obliczona transformata."
   ]
  },
  {
   "cell_type": "code",
   "execution_count": null,
   "metadata": {},
   "outputs": [],
   "source": [
    "import matplotlib.pyplot as plt\n",
    "import cv2\n",
    "import numpy as np\n",
    "from skimage.transform import hough_line, hough_line_peaks\n",
    "import os\n",
    "import math\n",
    "\n",
    "if not os.path.exists(\"kwadraty.png\") :\n",
    "    !wget https://raw.githubusercontent.com/vision-agh/poc_sw/master/11_Hough/kwadraty.png --no-check-certificate\n",
    "if not os.path.exists(\"lab112.png\") :\n",
    "    !wget https://raw.githubusercontent.com/vision-agh/poc_sw/master/11_Hough/lab112.png --no-check-certificate\n",
    "if not os.path.exists(\"dom.png\") :\n",
    "    !wget https://raw.githubusercontent.com/vision-agh/poc_sw/master/11_Hough/dom.png --no-check-certificate\n",
    "\n",
    "im = np.zeros((64,64), dtype=np.uint8)\n",
    "\n",
    "im[18, 31] = 1\n",
    "\n",
    "fig, ax = plt.subplots()\n",
    "fig.set_size_inches(4, 4)\n",
    "ax.imshow(im, 'gray')\n",
    "ax.axis('off')\n",
    "plt.show()"
   ]
  },
  {
   "cell_type": "markdown",
   "metadata": {},
   "source": [
    "3. Wykonaj transformację Hougha obazu im. Wykorzystaj funkcję *hough_line* z modułu _skimage.transform_. Funkcja zwraca: macierz H (przestrzeń Hougha) oraz dwa wektory theta i rho dla kolejnych \n",
    "4. Wyświetl przestrzeń Hougha za pomocą funkcji _plt.imshow_ (można też wykorzystać poniższą funkcję *show_hough*). Jak \"wygląda\" pojedynczy punkt w przestrzeni Hougha?"
   ]
  },
  {
   "cell_type": "code",
   "execution_count": null,
   "metadata": {},
   "outputs": [],
   "source": [
    "def show_hough(h, image):\n",
    "    # Generating figure 1\n",
    "    fig, axes = plt.subplots(1, 2, figsize=(15, 6))\n",
    "    ax = axes.ravel()\n",
    "\n",
    "    ax[0].imshow(image, 'gray')\n",
    "    ax[0].set_title('Input image')\n",
    "    ax[0].set_axis_off()\n",
    "\n",
    "    ax[1].imshow(h, 'gray')\n",
    "    ax[1].set_title('Hough transform')\n",
    "    ax[1].set_xlabel('Angles (degrees)')\n",
    "    ax[1].set_ylabel('Distance (pixels)')\n",
    "    ax[1].axis('image')\n",
    "    \n",
    "    plt.tight_layout()\n",
    "    plt.show()    "
   ]
  },
  {
   "cell_type": "code",
   "execution_count": null,
   "metadata": {},
   "outputs": [],
   "source": [
    "#3\n",
    "from skimage.transform import hough_line\n",
    "h, theta, rho = hough_line(im)\n",
    "#4\n",
    "show_hough(h,im)"
   ]
  },
  {
   "cell_type": "code",
   "execution_count": null,
   "metadata": {},
   "outputs": [],
   "source": [
    "#Komentarz\n",
    "#Pojedynczy punkt w przestrzeni kartezjańskiej jest reprezentowany przez przebieg sinusoidalny w przestrzeni Hougha"
   ]
  },
  {
   "cell_type": "markdown",
   "metadata": {},
   "source": [
    "5. Powtórz punkty 1-4, ale tym razem klinkij dwa punkty. Jak zmienia się przestrzeń Hougha?\n",
    "6. Powtórz punkty 1-4, ale tym razem kliknij kilka punktów starając się aby były współliniowe. Zaobserwuj zmiany w przestrzeni Hougha\n",
    "7. Poeksperymentuj z różnymi układami punktów"
   ]
  },
  {
   "cell_type": "code",
   "execution_count": null,
   "metadata": {},
   "outputs": [],
   "source": [
    "#5\n",
    "im2 = np.zeros((64,64), dtype=np.uint8)\n",
    "im2[18, 31] = 1\n",
    "im2[10, 38] = 1\n",
    "h2, theta2, rho2 = hough_line(im2)\n",
    "show_hough(h2, im2)\n",
    "\n"
   ]
  },
  {
   "cell_type": "code",
   "execution_count": null,
   "metadata": {},
   "outputs": [],
   "source": [
    "#Za pomocą dwóch punktów w przestrzeni kartezjańskiej uzyskano dwa przebiegi sinusoidalne przechodzące przez jeden punkt"
   ]
  },
  {
   "cell_type": "code",
   "execution_count": null,
   "metadata": {},
   "outputs": [],
   "source": [
    "#6\n",
    "im3 = np.zeros((64,64), dtype=np.uint8)\n",
    "im3[18, 31] = 1\n",
    "im3[18, 38] = 1\n",
    "im3[18, 50] = 1\n",
    "h3, theta3, rho3 = hough_line(im3)\n",
    "show_hough(h3, im3)"
   ]
  },
  {
   "cell_type": "code",
   "execution_count": null,
   "metadata": {},
   "outputs": [],
   "source": [
    "#Komentarz\n",
    "#Uzyskaliśmy przebiegi sinusoidalne o wspólnych węzłach. \n",
    "#Widzimy również, że punkty leżące na tej samej prostej (w przestrzeni kartezjańskiej) korespondują \n",
    "#z sinusoidami przechodzącymi przez wspólny punkt w przestrzeni Hougha."
   ]
  },
  {
   "cell_type": "code",
   "execution_count": null,
   "metadata": {},
   "outputs": [],
   "source": [
    "#7\n",
    "im4 = np.zeros((64,64), dtype=np.uint8)\n",
    "im4[:, :] = np.eye(64)\n",
    "h4, theta4, rho4 = hough_line(im4)\n",
    "show_hough(h4, im4,)\n",
    "\n",
    "im5 = np.zeros((64,64), dtype=np.uint8)\n",
    "im5[5, 5] = 1\n",
    "im5[5, 25] = 1\n",
    "im5[25, 5] = 1\n",
    "im5[63, 1] = 1\n",
    "h5, theta5, rho5 = hough_line(im5)\n",
    "show_hough(h5, im5)"
   ]
  },
  {
   "cell_type": "markdown",
   "metadata": {},
   "source": [
    "### Transformata Hougha dla pojedynczego obiektu\n",
    "\n",
    "W tym podpunkcie pokazane zostanie praktycznie wykorzystanie transformaty Hougha - do detekcji prostych na sztucznym rysunku.\n",
    "\n",
    "   1. Wczytaj obraz \"kwadraty.png\". Wyświetl go.\n",
    "   2. Wykonaj detekcję krawędzi jedną z metod gradientowych. Ważne aby obraz krawędzi był jak najlepszej jakości - co oznacza cienkie (nawet niekoniecznie ciągłe) krawędzie - dla tego przypadku nie powinno być trudne do uzyskania. Wyświetl obraz po detekcji krawędzi.\n",
    "   3. Wykonaj transformatę Hougha obrazu krawędziowego. Wykorzystaj funkcję *hough\\_line*.\n",
    "   4. Wyświetl macierz H. Czy widoczna jest taka liczba maksimów jakiej się spodziewamy?"
   ]
  },
  {
   "cell_type": "code",
   "execution_count": null,
   "metadata": {},
   "outputs": [],
   "source": [
    "#1\n",
    "kw = cv2.imread(\"kwadraty.png\")\n",
    "kw = cv2.cvtColor(kw, cv2.COLOR_BGR2GRAY)\n",
    "kw = kw.astype(np.float32)\n",
    "plt.plot,plt.imshow(kw, 'gray', vmin=0, vmax=256),plt.title('Obraz kwadraty')\n",
    "plt.axis('off')\n",
    "\n",
    "#2 Wykonanie operacji na gradiencie Sobela\n",
    "S1 = np.array([[-1, 0, 1], [-2, 0, 2], [-1, 0, 1]],np.float32)/9.0\n",
    "S2 = np.array([[-1, -2, -1], [0, 0, 0], [1, 2, 1]],np.float32)/9.0\n",
    "\n",
    "OS1 = cv2.filter2D(kw,-1, S1)\n",
    "OS2 = cv2.filter2D(kw,-1, S2)\n",
    "\n",
    "OS1_abs = np.abs(OS1)\n",
    "OS2_abs = np.abs(OS2)\n",
    "\n",
    "grad = np.sqrt(np.square(OS1_abs)+np.square(OS2_abs))\n",
    "\n",
    "fig, axs = plt.subplots(1, 2)\n",
    "fig.set_size_inches(15,7)\n",
    "plt.subplot(121),plt.imshow(kw),plt.title('Obraz kwadraty po detekcji')\n",
    "plt.xticks([]), plt.yticks([])\n",
    "plt.gray()\n",
    "plt.subplot(122),plt.imshow(grad),plt.title('Filtr kombinowany(gradienty Sobela)')\n",
    "plt.xticks([]), plt.yticks([])\n",
    "plt.gray()\n",
    "\n",
    "#3\n",
    "h, theta, rho = hough_line(grad)\n",
    "\n",
    "show_hough(h, grad)"
   ]
  },
  {
   "cell_type": "code",
   "execution_count": null,
   "metadata": {},
   "outputs": [],
   "source": [
    "#1\n",
    "kw = cv2.imread(\"kwadraty.png\")\n",
    "\n",
    "#2 Wykonanie detekcji dla gotowej funkcji z biblioteki Canny\n",
    "kw_can=cv2.Canny(kw,5,10,None,3,1)\n",
    "fig, axs = plt.subplots(1, 2)\n",
    "fig.set_size_inches(15,7)\n",
    "plt.subplot(121),plt.imshow(kw),plt.title('Obraz kwadraty po detekcji')\n",
    "plt.xticks([]), plt.yticks([])\n",
    "plt.gray()\n",
    "plt.subplot(122),plt.imshow(kw_can),plt.title('Gradient-biblioteka Canny')\n",
    "plt.xticks([]), plt.yticks([])\n",
    "plt.gray()\n",
    "\n",
    "#3\n",
    "hough_kw = hough_line(kw_can)\n",
    "show_hough(hough_kw[0], kw_can)"
   ]
  },
  {
   "cell_type": "code",
   "execution_count": null,
   "metadata": {},
   "outputs": [],
   "source": [
    "#Komentarz\n",
    "#Nie jest widoczna liczba maksimów jakiej się spodziewaliśmy jednak po wyrysowaniu okręgów w okręślonych punktach jest ona\n",
    "#widoczna."
   ]
  },
  {
   "cell_type": "markdown",
   "metadata": {},
   "source": [
    " 5. W module skimage.transform dostępna jest funkcja do automatycznej analizy przestrzeni Hougha - wyszukiwania maksimów - *hough\\_line\\_peaks*. Jako parametry przyjmuje ona wyniki funkcji *hough\\_line* (macierz H, theta i rho). Dodatkowo można podać próg powyżej którego punkt uznawany jest za maksimum (_threshold_ - domyslnie jest to połowa maksimum w przestrzeni H) oraz liczbę poszukiwanych maksimów (*num_peaks*). Funkcja zwraca współrzędne maksimów. Wykorzystaj funkcję *hough\\_line\\_peaks* do znalezienia maksimów odpowiadających krawędziom kwadratów.\n",
    " 6. Wyświetl macierz H używając konstrukcji:"
   ]
  },
  {
   "cell_type": "code",
   "execution_count": null,
   "metadata": {},
   "outputs": [],
   "source": [
    "hough_kw = hough_line(kw_can)\n",
    "H, theta, rho  = hough_line_peaks(hough_kw[0],hough_kw[1],hough_kw[2])\n",
    "print(theta)\n",
    "print(rho)"
   ]
  },
  {
   "cell_type": "markdown",
   "metadata": {},
   "source": [
    "Taki zapis pozwoli na dołożenie annotacji (okręgów) w miejscach znalezionych maksimów. Wyrysowanie okręgu w punkcie x, y (o rozmiarze 10, w czerwonym kolorze, bez wypełnienia środka) realizuje wywołanie: \n",
    "\n",
    "**circle = plt.Circle((x, y), 10, color='r', fill=False)**\n",
    "\n",
    "natomiast dołożenie takiego okręgu do obrazu to:\n",
    "\n",
    "**ax.add_patch(circle)**\n",
    "\n",
    "Zaznacz maksima na obrazie wykorzystując rezultat funkcji *hough\\_line\\_peaks* biorąc pod uwagę, że zwraca ona kąty w radianach z przedziału od -pi/2 do pi/2, a rho z przedziału od -r/2 do r/2 gdzie r to pionowy rozmiar przestrzeni Hougha."
   ]
  },
  {
   "cell_type": "code",
   "execution_count": null,
   "metadata": {},
   "outputs": [],
   "source": [
    "import math\n",
    "theta = (theta*(180/math.pi))\n",
    "theta =theta+90\n",
    "rho=rho+365\n",
    "circle = []\n",
    "\n",
    "for y in range(len(theta)):\n",
    "    circle.append(plt.Circle((theta[y], rho[y]), 10, color='r', fill=False))\n",
    "\n",
    "fig,ax = plt.subplots(1,figsize=(20,15))\n",
    "ax.set_aspect('equal')\n",
    "ax.imshow(hough_kw[0], 'gray')\n",
    "ax.set_title('Zaznaczone maksima')\n",
    "for x in range(len(circle)):\n",
    "    ax.add_patch(circle[x])    "
   ]
  },
  {
   "cell_type": "markdown",
   "metadata": {},
   "source": [
    "7. Istnieje też możliwość przeprowadzenia transformacji Hougha z użyciem biblioteki OpenCV. W bibliotece znajdują się dwie wersje funkcji wyszukującej linie proste - 'klasyczna' - _HoughLines_ oraz probabilistyczna _HoughLinesP_. Zadna z nich nie zwraca przestrzeni Hougha. Wynikiem działania pierwszej jest lista parametrów prostych (krotki zawierające rho, theta). Druga zwraca krotki 4-ro elementowe ze współrzędnymi końców odcinków wykorzystanych do wylicznia parametrów (czyli znalezienia prostej). \n",
    "8. Wyznacz linie obecne na obrazie za pomocą funkcji _HoughLines_. Wykryte linie wyrysuj na obrazie początkowym (UWAGA: wczytanym bez konwersji na graylevel). Do wyświetlania linii wykorzystaj przykładowy kod:"
   ]
  },
  {
   "cell_type": "code",
   "execution_count": null,
   "metadata": {},
   "outputs": [],
   "source": [
    "I_kwadrat = cv2.imread('kwadraty.png',cv2.IMREAD_GRAYSCALE)\n",
    "kw = cv2.imread('kwadraty.png')\n",
    "kw_gray = cv2.cvtColor(kw, cv2.COLOR_BGR2GRAY)\n",
    "krawedzie = cv2.Canny(kw_gray,50,150,apertureSize = 3)\n",
    "lines = cv2.HoughLines(krawedzie,1,np.pi/180,64)\n",
    "\n",
    "for line in lines:\n",
    "    rho,theta = line[0]\n",
    "    a = np.cos(theta)\n",
    "    b = np.sin(theta)\n",
    "    x0 = a*rho\n",
    "    y0 = b*rho\n",
    "    x1 = int(x0 + 1000*(-b))\n",
    "    y1 = int(y0 + 1000*(a))\n",
    "    x2 = int(x0 - 1000*(-b))\n",
    "    y2 = int(y0 - 1000*(a))\n",
    "    cv2.line(kw,(x1,y1),(x2,y2),(0,0,255),2)\n",
    "\n",
    "f, ax = plt.subplots(1, 2, figsize=(20, 10))\n",
    "ax[0].imshow(I_kwadrat, 'gray')\n",
    "ax[0].axis('off')\n",
    "ax[0].set_title('Obraz oryginalny')\n",
    "ax[1].imshow(kw, 'gray')\n",
    "ax[1].axis('off')\n",
    "ax[1].set_title(\"Wykryte linie\")\n",
    "plt.show()"
   ]
  },
  {
   "cell_type": "markdown",
   "metadata": {},
   "source": [
    "9. Wyznacz odcinki obecne na obrazie za pomocą funkcji _HoughLinesP_. Wykryte odcinki wyrysuj na obrazie początkowym (UWAGA: wczytanym bez konwersji na graylevel). "
   ]
  },
  {
   "cell_type": "code",
   "execution_count": null,
   "metadata": {},
   "outputs": [],
   "source": [
    "import cv2 \n",
    "import numpy as np\n",
    "kw_2 = cv2.imread(\"kwadraty.png\")\n",
    "krawedzie_2 = cv2.Canny(kw_2,50,150,apertureSize = 3)\n",
    "lines_2 = cv2.HoughLinesP(krawedzie_2,1,np.pi/180,40,minLineLength=20,maxLineGap=10)\n",
    "\n",
    "for line in lines_2:\n",
    "    x1,y1,x2,y2 = line[0]\n",
    "    cv2.line(kw_2,(x1,y1),(x2,y2),(0,255,0),2)\n",
    "\n",
    "f, ax = plt.subplots(1, 2, figsize=(20, 10))\n",
    "ax[0].imshow(I_kwadrat, 'gray')\n",
    "ax[0].axis('off')\n",
    "ax[0].set_title('Obraz oryginalny')\n",
    "ax[1].imshow(kw_2, 'gray')\n",
    "ax[1].axis('off')\n",
    "ax[1].set_title(\"Wykryte linie\")\n",
    "plt.show()"
   ]
  },
  {
   "cell_type": "markdown",
   "metadata": {},
   "source": [
    "### Transformata Hougha dla obrazu rzeczywistego.\n",
    "\n",
    "Bazując na kodzie stworzonym w punkcie B wyszukamy linie na obrazie rzeczywistym.\n",
    "   1. Wczytaj obraz \"lab112.png\". Wyświetl go.\n",
    "   2. Wykorzystując wszystkie poznane techniki przetwarzania obrazów (filtracja, przekształcenia morfologiczne, binaryzację, detekcję krawędzi) wyodrębnij krawędzie samych kwadratów - tak aby były jak najlepszej jakości (cienkie) - jednocześnie eliminując z obrazu zakłócenia.\n",
    "   3. Wykorzystaj funkcje *hough_line* i *hough_line_peaks* do detekcji linii na obrazie, a następnie np. wykorzystując kod z punktu 8 poprzedniego ustępu wyrysuj na oryginalnym obrazie znalezione linie."
   ]
  },
  {
   "cell_type": "code",
   "execution_count": null,
   "metadata": {},
   "outputs": [],
   "source": [
    "#1\n",
    "lab = cv2.imread(\"lab112.png\")\n",
    "lab = cv2.cvtColor(lab, cv2.COLOR_BGR2GRAY)\n",
    "plt.plot,plt.imshow(lab, 'gray', vmin=0, vmax=256),plt.title('Obraz lab112')\n",
    "plt.axis('off')\n",
    "plt.show()\n"
   ]
  },
  {
   "cell_type": "code",
   "execution_count": null,
   "metadata": {},
   "outputs": [],
   "source": [
    "#2)\n",
    "lab_1 = cv2.imread(\"lab112.png\",cv2.IMREAD_GRAYSCALE)\n",
    "I_lab_rgb = cv2.imread('lab112.png')\n",
    "\n",
    "lab_1 = np.where(lab_1 > 40, 0, 255)\n",
    "lab_1[:, 500:] = 0\n",
    "lab_1 = lab_1.astype('uint8')\n",
    "\n",
    "X,Y = lab_1.shape\n",
    "lab_2 = np.zeros((X, Y, 3))\n",
    "lab_2[:, :, 0] = lab_1\n",
    "lab_2[:, :, 1] = lab_1\n",
    "lab_2[:, :, 2] = lab_1\n",
    "lab_2 = lab_2.astype('uint8')\n",
    "\n",
    "krawedzie = cv2.Canny(lab_2, 50, 150, apertureSize = 3)\n",
    "\n",
    "#3\n",
    "lab3_H, lab3_theta, lab3_rho = hough_line(krawedzie)\n",
    "lab4_H, lab4_theta, lab4_rho = hough_line_peaks(lab3_H, lab3_theta, lab3_rho)\n",
    "theta2 = lab4_theta\n",
    "rho2 = lab4_rho\n",
    "wynik = cv2.cvtColor(lab_1, cv2.COLOR_GRAY2BGR)\n",
    "\n",
    "# I_lab_rgb = cv2.imread('lab112.png')\n",
    "# I_lab_rgb = cv2.cvtColor(I_lab_rgb, cv2.COLOR_BGR2RGB)\n",
    "\n",
    "for i in range(0,len(theta2)):\n",
    "    rho = rho2[i]\n",
    "    theta = theta2[i]\n",
    "    a = np.cos(theta)\n",
    "    b = np.sin(theta)\n",
    "    x0 = a*rho\n",
    "    y0 = b*rho\n",
    "    x1 = int(x0 + 1000*(-b))\n",
    "    y1 = int(y0 + 1000*(a))\n",
    "    x2 = int(x0 - 1000*(-b))\n",
    "    y2 = int(y0 - 1000*(a))\n",
    "        \n",
    "    pt1 = (x1, y1)\n",
    "    pt2 = (x2, y2)\n",
    "    cv2.line(I_lab_rgb, pt1, pt2, (255,0,0), 2, cv2.LINE_AA)\n",
    "\n",
    "I_lab = cv2.imread(\"lab112.png\",cv2.IMREAD_GRAYSCALE)\n",
    "f, ax = plt.subplots(1, 2, figsize=(20, 10))\n",
    "ax[0].imshow(I_lab, 'gray')\n",
    "ax[0].axis('off')\n",
    "ax[0].set_title('Obraz oryginalny')\n",
    "ax[1].imshow(I_lab_rgb, 'gray')\n",
    "ax[1].axis('off')\n",
    "ax[1].set_title(\"Wykryte linie\")\n",
    "plt.show()"
   ]
  },
  {
   "cell_type": "markdown",
   "metadata": {},
   "source": [
    "4. Wczytaj obraz \"dom.png\". Wypróbuj działanie transformacji Hougha na tym obrazie z wykorzystaniem funkcji _cv2.HoughLinesP_  (oczywiście po odpowiednich przekształceniach). Postaraj się tak przygotować obraz z krawędziami i dobrać parametry aby wyrysować na oryginalnym obrazie odcinki obejmujące zarysy domu. Weź pod uwage dodatkowe parametry funkcji, takie jak:   minLineLength, maxLineGap."
   ]
  },
  {
   "cell_type": "code",
   "execution_count": null,
   "metadata": {},
   "outputs": [],
   "source": [
    "dom = cv2.imread(\"dom.png\",cv2.IMREAD_GRAYSCALE)\n",
    "\n",
    "dom_rgb = cv2.imread('dom.png')\n",
    "dom = cv2.imread('dom.png',cv2.IMREAD_GRAYSCALE)\n",
    "dom1 = cv2.GaussianBlur(dom, (15, 15), 0)\n",
    "dom1 = cv2.GaussianBlur(dom1, (7, 7), 0)\n",
    "\n",
    "dom_detekcja_canny = cv2.Canny(dom1, 10, 30, None, 3, 1)\n",
    "linie_3 = cv2.HoughLinesP(dom_detekcja_canny, 1, np.pi/180, 20, minLineLength = 23, maxLineGap = 5)\n",
    "for i in linie_3:\n",
    "    x1, y1, x2, y2 = i[0]\n",
    "    cv2.line(dom_rgb, (x1,y1), (x2,y2), (255,0,0), 2)\n",
    "    \n",
    "f, ax = plt.subplots(1, 2, figsize=(20, 10))\n",
    "ax[0].imshow(dom, 'gray')\n",
    "ax[0].axis('off')\n",
    "ax[0].set_title('Obraz oryginalny')\n",
    "ax[1].imshow(dom_rgb, 'gray')\n",
    "ax[1].axis('off')\n",
    "ax[1].set_title('Obraz wynikowy')\n",
    "plt.show()\n"
   ]
  },
  {
   "cell_type": "code",
   "execution_count": null,
   "metadata": {},
   "outputs": [],
   "source": []
  }
 ],
 "metadata": {
  "celltoolbar": "Raw Cell Format",
  "kernelspec": {
   "display_name": "Python 3",
   "language": "python",
   "name": "python3"
  },
  "language_info": {
   "codemirror_mode": {
    "name": "ipython",
    "version": 3
   },
   "file_extension": ".py",
   "mimetype": "text/x-python",
   "name": "python",
   "nbconvert_exporter": "python",
   "pygments_lexer": "ipython3",
   "version": "3.8.8"
  }
 },
 "nbformat": 4,
 "nbformat_minor": 2
}
