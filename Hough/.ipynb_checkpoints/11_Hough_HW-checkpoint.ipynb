{
 "cells": [
  {
   "cell_type": "markdown",
   "metadata": {},
   "source": [
    "### Transformata Hougha w przestrzeni ab - Domowe\n",
    "Przestrzeń ρ,θ nie jest jedyną przestrzenią w której punkt odpowiada parametrom prostej. Np. można spróbować wykorzystać tradycyjne równanie prostej:\n",
    "\n",
    "y=ax+b\n",
    "\n",
    "W tej przestrzeni reprezentacją pęku prostych jest prosta. \n",
    "\n",
    "Zadanie: napisać funkcję, która jako argument przyjmuje obraz (binarny) oraz parametry:\n",
    "\n",
    "- aMin - minimalna wartość parametru a\n",
    "- aMax - maksymalna  wartość parametru a\n",
    "- aSkok - skok parametru a\n",
    "- bMin - minimalna wartość parametru b\n",
    "- bMax  - maksymalna  wartość parametru b\n",
    "- bSkok - skok parametru b\n",
    "Jako wynik ma zwrócić macierz przestrzeni Hougha ab.\n",
    "\n",
    "Uwagi:\n",
    "\n",
    "- zadanie może wyglądać na skomplikowane ale tak naprawdę wymaga tylko starannego przemyślenia\n",
    "- najważniejszy jest problem \"adresowania\" macierzy H. Można do tego wykorzystać dwa wektory A i B ze wszystkimi możliwymi wartościami jakie parametry a i b mogę przyjąć (w podanych zakresach z podanym skokiem). Wówczas indeksy tych wektorów będą współrzędnymi w macierzy H. Do stworzenia wektorów wykorzystaj funkcję _np.arange_\n",
    "- na podstawie rozmiaru wektorów A i B (własność _shape_) należy stworzyć wyzerowaną macierz H (funkcja _np.zeros_) \n",
    "- dla każdego punktu krawędzi na obrazie należy:\n",
    "    - używająć wektora A dla każdej z jego wartości a obliczyć odpowiednią wartość b - indeksy kolejnych wartości a (a_idx) będą jedną z współrzędnych macierzy H, natomiast drugą współrędną mozna uzyskać jako b_idx = np.argmin(abs(B - b)).\n",
    "        - każde a_idx i b_idx wyznaczą punkt w macierzy H, który należy zinkrementować\n",
    "- działanie funkcji należy przetestować na punktach generowanych w 'edytorku' z punktu \"Transformacja Hougha dla małej liczby punktów\". Proponowane parametry funkcji:\n",
    "    - aMin: -5\n",
    "    - aMax:  5\n",
    "    - aSkok: 0.05 \n",
    "    - bMin: -100\n",
    "    - bMax:  100\n",
    "    - bSkok: 1\n",
    "\n",
    "Zastanów się w przypadku jakich prostych reprezentacja ab nie sprawdzi się."
   ]
  },
  {
   "cell_type": "code",
   "execution_count": null,
   "metadata": {},
   "outputs": [],
   "source": [
    "import matplotlib.pyplot as plt\n",
    "import cv2\n",
    "import numpy as np\n",
    "from skimage.transform import hough_line, hough_line_peaks"
   ]
  },
  {
   "cell_type": "code",
   "execution_count": null,
   "metadata": {},
   "outputs": [],
   "source": [
    "def Hough(obraz_binarny,aMin,aMax,aSkok,bMin,bMax,bSkok):\n",
    "    x,y = obraz_binarny.shape\n",
    "    #dwa wektory A i B do adresowania macierzy\n",
    "    A=np.arange(aMin,aMax,aSkok)\n",
    "    B=np.arange(bMin,bMax,bSkok)\n",
    "    #wyzerowana macierz\n",
    "    H=np.zeros((A.shape[0],B.shape[0]))\n",
    "    \n",
    "    #przejście po współrzednych obrazu binarnego\n",
    "    lista = [x,y]\n",
    "    for c in range(x):\n",
    "        for d in range(y):\n",
    "            \n",
    "            if (obraz_binarny[c,d]==1):\n",
    "                for a1 in range(len(A)):\n",
    "                    #pierwsza współrzędna macierzy\n",
    "                    a_idx = a1\n",
    "                    b = c-A[a1]*d\n",
    "                    #druga współrzędna macierzy\n",
    "                    b_idx = np.argmin(abs(B-b))\n",
    "                    H[b_idx,a_idx] +=1\n",
    "    return H"
   ]
  },
  {
   "cell_type": "code",
   "execution_count": null,
   "metadata": {},
   "outputs": [],
   "source": [
    "def show_hough(h,image):\n",
    "    fig, axes = plt.subplots(1, 2, figsize=(15, 6))\n",
    "    ax = axes.ravel()\n",
    "\n",
    "    ax[0].imshow(image, 'gray')\n",
    "    ax[0].set_title('Obraz oryginalny')\n",
    "    ax[0].set_axis_off()\n",
    "    \n",
    "    ax[1].imshow(h, 'gray')\n",
    "    ax[1].set_title('Obraz po transformaty Hougha w przestrzeni ab')\n",
    "    \n",
    "    plt.tight_layout()\n",
    "    plt.show()   "
   ]
  },
  {
   "cell_type": "code",
   "execution_count": null,
   "metadata": {},
   "outputs": [],
   "source": [
    "#proponowane parametry funkcji\n",
    "aMin = -5\n",
    "aMax = 5\n",
    "aSkok = 0.05\n",
    "bMin = -100\n",
    "bMax = 100\n",
    "bSkok = 1\n",
    "\n",
    "im1 = np.zeros((100,100))\n",
    "im1[50,50] = 1\n",
    "punkt = Hough(im1,aMin,aMax,aSkok,bMin,bMax,bSkok)\n",
    "show_hough(punkt,im1)"
   ]
  },
  {
   "cell_type": "code",
   "execution_count": null,
   "metadata": {},
   "outputs": [],
   "source": [
    "im2 = np.zeros((100,100))\n",
    "im2[20,50] = 1\n",
    "im2[50,40] = 1\n",
    "punkt_2 = Hough(im2,aMin,aMax,aSkok,bMin,bMax,bSkok)\n",
    "show_hough(punkt_2,im2)"
   ]
  },
  {
   "cell_type": "code",
   "execution_count": null,
   "metadata": {},
   "outputs": [],
   "source": [
    "im3 = np.zeros((100,100))\n",
    "im3[20,50] = 1\n",
    "im3[50,40] = 1\n",
    "im3[60,80] = 1\n",
    "punkt_3 = Hough(im3,aMin,aMax,aSkok,bMin,bMax,bSkok)\n",
    "show_hough(punkt_3,im3)"
   ]
  },
  {
   "cell_type": "code",
   "execution_count": null,
   "metadata": {},
   "outputs": [],
   "source": [
    "im4 = np.zeros((100,100))\n",
    "im4[20,30] = 1\n",
    "im4[20,50] = 1\n",
    "im4[20,70] = 1\n",
    "im4[20,90] = 1\n",
    "punkt_4 = Hough(im4,aMin,aMax,aSkok,bMin,bMax,bSkok)\n",
    "show_hough(punkt_4,im4)"
   ]
  },
  {
   "cell_type": "code",
   "execution_count": null,
   "metadata": {},
   "outputs": [],
   "source": [
    "im5 = np.zeros((100,100))\n",
    "im5[30,60] = 1\n",
    "im5[50,60] = 1\n",
    "im5[70,60] = 1\n",
    "im5[90,60] = 1\n",
    "im5[10,60] = 1\n",
    "punkt_5 = Hough(im5,aMin,aMax,aSkok,bMin,bMax,bSkok)\n",
    "show_hough(punkt_5,im5)"
   ]
  },
  {
   "cell_type": "markdown",
   "metadata": {},
   "source": [
    "**Wnioski** \n",
    "W przypadku punktów, które są pionowe niemożliwe jest stworzenie prostej w przestrzeni Hougha. Brak możliwości zaobserwowania maksimów."
   ]
  }
 ],
 "metadata": {
  "celltoolbar": "Raw Cell Format",
  "kernelspec": {
   "display_name": "Python 3",
   "language": "python",
   "name": "python3"
  },
  "language_info": {
   "codemirror_mode": {
    "name": "ipython",
    "version": 3
   },
   "file_extension": ".py",
   "mimetype": "text/x-python",
   "name": "python",
   "nbconvert_exporter": "python",
   "pygments_lexer": "ipython3",
   "version": "3.8.8"
  }
 },
 "nbformat": 4,
 "nbformat_minor": 2
}
