{
 "cells": [
  {
   "cell_type": "code",
   "execution_count": null,
   "metadata": {},
   "outputs": [],
   "source": [
    "import matplotlib.pyplot as plt\n",
    "import cv2\n",
    "import numpy as np\n",
    "import os"
   ]
  },
  {
   "cell_type": "code",
   "execution_count": null,
   "metadata": {},
   "outputs": [],
   "source": [
    "if not os.path.exists(\"details.png\") :\n",
    "    !wget https://raw.githubusercontent.com/vision-agh/poc_sw/master/13_CCL/details.png"
   ]
  },
  {
   "cell_type": "code",
   "execution_count": null,
   "metadata": {},
   "outputs": [],
   "source": [
    "srubki = cv2.imread('details.png', cv2.IMREAD_GRAYSCALE)\n",
    "plt.axis('off')\n",
    "plt.imshow(srubki,'gray')\n",
    "plt.show()"
   ]
  },
  {
   "cell_type": "code",
   "execution_count": null,
   "metadata": {},
   "outputs": [],
   "source": [
    "#Element strukturalny\n",
    "struktura_1 = cv2.getStructuringElement(cv2.MORPH_RECT,(15,15))\n",
    "\n",
    "#Operacje top-hat i bottom-hat\n",
    "TOP_HAT=cv2.morphologyEx(srubki, cv2.MORPH_TOPHAT, struktura_1)\n",
    "BOTTOM_HAT=cv2.morphologyEx(srubki, cv2.MORPH_BLACKHAT, struktura_1)\n",
    "\n",
    "fig, axs = plt.subplots(1, 2)\n",
    "fig.set_size_inches(20, 10)\n",
    "plt.subplot(121),plt.imshow(TOP_HAT, 'gray', vmin=0, vmax=256),plt.title('OPERACJA TOP-HAT')\n",
    "plt.axis('off')\n",
    "plt.subplot(122),plt.imshow(BOTTOM_HAT, 'gray', vmin=0, vmax=256),plt.title('OPERACJA BOTTOM-HAT')\n",
    "plt.axis('off')\n",
    "\n",
    "plt.show()\n"
   ]
  },
  {
   "cell_type": "code",
   "execution_count": null,
   "metadata": {},
   "outputs": [],
   "source": [
    "#Doprowadzenie do postaci binarnej\n",
    "obraz_binarny=np.where(BOTTOM_HAT <60, 0, 1)\n",
    "obraz_binarny=obraz_binarny.astype('uint8')\n",
    "plt.imshow(obraz_binarny,'gray')\n",
    "plt.axis('off')\n",
    "plt.show()\n"
   ]
  },
  {
   "cell_type": "code",
   "execution_count": null,
   "metadata": {},
   "outputs": [],
   "source": [
    "obraz_binarny_1=np.where(srubki < 220, 0, 1)\n",
    "obraz_binarny_1=obraz_binarny_1.astype('uint8')\n",
    "plt.imshow(obraz_binarny_1,'gray')\n",
    "plt.axis('off')\n",
    "plt.show()"
   ]
  },
  {
   "cell_type": "code",
   "execution_count": null,
   "metadata": {},
   "outputs": [],
   "source": [
    "suma=obraz_binarny+obraz_binarny_1\n",
    "suma=suma.astype('uint8')\n",
    "plt.imshow(suma,'gray')\n",
    "plt.axis('off')\n",
    "plt.show()\n",
    "\n",
    "suma_1=np.where(suma > 0, 1, 0)\n",
    "suma_1=suma_1.astype('uint8')\n",
    "suma_1=cv2.medianBlur(suma_1, 3)   \n",
    "\n",
    "#dillation\n",
    "kernel = np.ones((3,3))\n",
    "dilate_1=cv2.dilate(suma_1,kernel,iterations=1)\n",
    "plt.imshow(dilate_1,'gray')\n",
    "plt.axis('off')\n",
    "plt.show()"
   ]
  },
  {
   "cell_type": "code",
   "execution_count": null,
   "metadata": {},
   "outputs": [],
   "source": [
    "#Wyliczenie statystyki\n",
    "labels,tresh,stats,centroids = cv2.connectedComponentsWithStats(dilate_1)\n",
    "plt.imshow(tresh,'gray')\n",
    "plt.axis('off')\n",
    "plt.show()\n",
    "\n",
    "print(\"współrzędne każdego połączonego komponentu\")\n",
    "print(int(centroids[0,0]))"
   ]
  },
  {
   "cell_type": "code",
   "execution_count": null,
   "metadata": {},
   "outputs": [],
   "source": [
    "#kopia iobrazu indeksowanego\n",
    "ccl_vis = tresh.copy()\n",
    "s=0\n",
    "for label_num in range(2,labels+1):\n",
    "    cv2.putText(ccl_vis,str(label_num-1),(int(centroids[label_num-1,0]),int(centroids[label_num-1,1])),cv2.FONT_HERSHEY_SIMPLEX,1,(20,0,0),2)\n",
    "plt.imshow(ccl_vis,'gray')\n",
    "plt.axis('off')\n",
    "plt.show()"
   ]
  },
  {
   "cell_type": "code",
   "execution_count": null,
   "metadata": {},
   "outputs": [],
   "source": [
    "# momens_real = []\n",
    "# hu_momens_real = []\n",
    "# images_real = []\n",
    "# for i in range(1,labels):\n",
    "#     print(\"Numer obiektu to: {}\".format(i))\n",
    "#     I = (I_indeks == i)*1\n",
    "#     I = I.astype('uint8')\n",
    "#     images_real.append(I)\n",
    "#     plt.imshow(I, 'gray')\n",
    "#     plt.show()\n",
    "#     momens_real.append(cv2.moments(I))\n",
    "#     hu_momens_real.append(cv2.HuMoments(momens_real[i-1]))\n",
    "#     print(momens_real[i-1]['m00'])\n",
    "#     print(hu_momens_real[i-1][0][0])\n",
    "#     print(hu_momens_real[i-1][1][0])\n",
    "#     print(hu_momens_real[i-1][2][0])\n",
    "\n",
    "moment_geometryczny_1 = []\n",
    "momentHU_1 = []\n",
    "obraz_1 = []\n",
    "\n",
    "for i in range(1,labels):\n",
    "    print(\"Numer obiektu to: {}\".format(i))\n",
    "    #wybranie obiektu\n",
    "    I = (tresh == i)*1\n",
    "    I = I.astype('uint8')\n",
    "    #wyświetlenie obiektu\n",
    "    obraz_1.append(I)\n",
    "    plt.imshow(I, 'gray')\n",
    "    plt.show()\n",
    "    #obliczenie momentu geometrycznego\n",
    "    moment_geometryczny_1.append(cv2.moments(I))\n",
    "    #obliczenie momentu HU\n",
    "    momentHU_1.append(cv2.HuMoments(moment_geometryczny_1[i-1]))\n",
    "    \n",
    "    print(\"Moment geometryczny dla {}\".format(i))\n",
    "    print(moment_geometryczny_1[i-1]['m00'])\n",
    "    print()\n",
    "    print(\"Moment Hu dla {}\".format(i))\n",
    "    print(momentHU_1[i-1][0][0])"
   ]
  },
  {
   "cell_type": "code",
   "execution_count": null,
   "metadata": {},
   "outputs": [],
   "source": [
    "A , B = tresh.shape\n",
    "new_1 = np.zeros((A,B))\n",
    "for i in range(len(obraz_1)):\n",
    "    if(moment_geometryczny_1[i]['m00']>550 and moment_geometryczny_1[i]['m00']<980 and momentHU_1[i][0][0] > 0.2 and momentHU_1[i][1][0]<0.6):\n",
    "        new_1 += obraz_1[i]\n",
    "plt.imshow(new_1, 'gray')\n",
    "plt.show()"
   ]
  },
  {
   "cell_type": "code",
   "execution_count": null,
   "metadata": {},
   "outputs": [],
   "source": [
    "A , B = tresh.shape\n",
    "new_2 = np.zeros((A,B))\n",
    "for i in range(len(obraz_1)):\n",
    "    if(moment_geometryczny_1[i]['m00']>320 and moment_geometryczny_1[i]['m00']<920 and momentHU_1[i][0][0] > 0.17 and momentHU_1[i][0][0] < 0.19): \n",
    "        new_2 += obraz_1[i]\n",
    "plt.imshow(new_2, 'gray')\n",
    "plt.show()"
   ]
  },
  {
   "cell_type": "code",
   "execution_count": null,
   "metadata": {},
   "outputs": [],
   "source": [
    "A , B = tresh.shape\n",
    "new_3 = np.zeros((A,B))\n",
    "for i in range(len(obraz_1)):\n",
    "    if(moment_geometryczny_1[i]['m00']>260 and moment_geometryczny_1[i]['m00']<970 and momentHU_1[i][0][0] > 0.19 and momentHU_1[i][0][0] < 0.25):\n",
    "        new_3 += obraz_1[i]\n",
    "plt.imshow(new_3, 'gray')\n",
    "plt.show()"
   ]
  },
  {
   "cell_type": "code",
   "execution_count": null,
   "metadata": {},
   "outputs": [],
   "source": []
  }
 ],
 "metadata": {
  "kernelspec": {
   "display_name": "Python 3",
   "language": "python",
   "name": "python3"
  },
  "language_info": {
   "codemirror_mode": {
    "name": "ipython",
    "version": 3
   },
   "file_extension": ".py",
   "mimetype": "text/x-python",
   "name": "python",
   "nbconvert_exporter": "python",
   "pygments_lexer": "ipython3",
   "version": "3.8.8"
  }
 },
 "nbformat": 4,
 "nbformat_minor": 4
}
