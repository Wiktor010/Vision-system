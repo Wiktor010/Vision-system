{
 "cells": [
  {
   "cell_type": "markdown",
   "metadata": {},
   "source": [
    "# Zadanie domowe\n",
    "\n",
    "W przypadku obrazów w odcieniach szarości pojedynczy piksel z zakresu [0; 255] reprezentowany jest jako 8-bitowa liczba bez znaku.\n",
    "Pewnym rozszerzeniem analizy sposobu reprezentacji obrazu może być następujący eksperyment.\n",
    "Załóżmy, że z każdego z 8 bitów możemy stworzyć pojedynczy obraz binarny (ang. _bit-plane slicing_).\n",
    "Dla obrazka _100zloty.jpg_ (https://raw.githubusercontent.com/vision-agh/poc_sw/master/02_Point/100zloty.jpg) stwórz 8 obrazów, z których każdy powinien zawierać jedną płaszczyznę bitową.\n",
    "Podpowiedź $-$ warto sprawdzić, jak realizuje się bitowe operacje logiczne.\n",
    "Zastosowanie takiej dekompozycji obrazu pozwala na analizę ,,ważności'' poszczególnych bitów.\n",
    "Jest to użyteczne w kwantyzacji, ale także w kompresji.\n",
    "\n",
    "W drugim etapie zadania proszę spróbować odtworzyć obraz oryginalny z mniejszej liczby obrazów binarnych.\n",
    "Warto zacząć od dwóch najbardziej znaczących bitów, a później dodawać kolejne.\n",
    "Należy utworzyć co najmniej trzy wersje zrekonstruowanych obrazów.\n",
    "Podpowiedź $-$ rekonstrukcja obrazu to mnożenie przez odpowiednią potęgę liczby 2 (przesunięcie bitowe) oraz dodawanie."
   ]
  },
  {
   "cell_type": "code",
   "execution_count": null,
   "metadata": {},
   "outputs": [],
   "source": [
    "import cv2\n",
    "import numpy as np\n",
    "import matplotlib.pyplot as plt\n",
    "import os\n",
    "\n",
    "if not os.path.exists(\"100zloty.jpg\") :\n",
    "    !wget https://raw.githubusercontent.com/vision-agh/poc_sw/master/02_Point/100zloty.jpg\n",
    "\n",
    "zloty=cv2.imread('100zloty.jpg')  \n",
    "zloty = cv2.cvtColor(zloty, cv2.COLOR_RGB2GRAY)\n",
    "\n",
    "\n",
    "#pierwszy etap zadania:stworzenie 8 obrazów, z kótrych każdy powinien zawierać jedną płaszczyznę\n",
    "\n",
    "bity=[] \n",
    "for x in range(8): #pętla odpowiedzialna za przechodzenie po bitach\n",
    "    for bit in [np.power(2,x)]: #\n",
    "        first =bit*np.ones((847,1661),dtype=int) \n",
    "        first8 = first.astype('uint8')\n",
    "        bit=cv2.bitwise_and(zloty,first8)\n",
    "        bity.append(bit)\n",
    "        plt.imshow(bit)\n",
    "        plt.xticks([])\n",
    "        plt.yticks([])\n",
    "        plt.title(\"Bit nr {}\".format(x+1))\n",
    "        x=x+1\n",
    "        plt.gray()\n",
    "        plt.show()\n",
    "\n",
    "#drugi etap zadania rekonstruckja trzech obrazów, dlatego korzystam z funkcji add()\n",
    "\n",
    "zloty_1 = cv2.add(bity[5],bity[3])\n",
    "zloty_2 = cv2.add(bity[6],bity[4])\n",
    "zloty_3 = cv2.add(bity[7],bity[1])\n",
    "fig, (a1,a2,a3) = plt.subplots(1,3,figsize=(10,10))\n",
    "fig,a1.set_title('6 i 4 bit')\n",
    "fig,a2.set_title('7 i 5 bit')\n",
    "fig,a3.set_title('8 i 2 bit')\n",
    "a1.imshow(zloty_1)\n",
    "a2.imshow(zloty_2)\n",
    "a3.imshow(zloty_3)\n",
    "a1.set_xticks([])\n",
    "a1.set_yticks([])\n",
    "a2.set_xticks([])\n",
    "a2.set_yticks([])\n",
    "a3.set_xticks([])\n",
    "a3.set_yticks([])\n",
    "plt.show()   "
   ]
  },
  {
   "cell_type": "code",
   "execution_count": null,
   "metadata": {},
   "outputs": [],
   "source": []
  }
 ],
 "metadata": {
  "kernelspec": {
   "display_name": "Python 3",
   "language": "python",
   "name": "python3"
  },
  "language_info": {
   "codemirror_mode": {
    "name": "ipython",
    "version": 3
   },
   "file_extension": ".py",
   "mimetype": "text/x-python",
   "name": "python",
   "nbconvert_exporter": "python",
   "pygments_lexer": "ipython3",
   "version": "3.8.8"
  }
 },
 "nbformat": 4,
 "nbformat_minor": 1
}
