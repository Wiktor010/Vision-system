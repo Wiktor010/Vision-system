{
 "cells": [
  {
   "cell_type": "markdown",
   "metadata": {},
   "source": [
    "# Przekształcenia punktowe"
   ]
  },
  {
   "cell_type": "markdown",
   "metadata": {},
   "source": [
    "W trakcie niniejszego ćwiczenia zapoznamy się z podstawowymi operacjami punktowymi (bezkontekstowymi) przeprowadzanymi na obrazach cyfrowych:\n",
    "- typu LUT (operacja jednoargumentowa),\n",
    "- arytmetycznymi (operacje dwuargumentowe): dodawanie, odejmowanie, mnożenie, dzielenie,\n",
    "- logicznymi (operacje jedno i dwuargumentowe): AND, OR, XOR, NOT."
   ]
  },
  {
   "cell_type": "markdown",
   "metadata": {},
   "source": [
    "Na początku zaimportuj potrzebne biblioteki."
   ]
  },
  {
   "cell_type": "code",
   "execution_count": null,
   "metadata": {},
   "outputs": [],
   "source": [
    "import cv2\n",
    "import numpy as np\n",
    "import matplotlib.pyplot as plt"
   ]
  },
  {
   "cell_type": "markdown",
   "metadata": {},
   "source": [
    "## Operacja LUT\n",
    "\n",
    "**Operacja LUT** polega na przekształcaniu wartości poszczególnych pikseli obrazu przy użyciu z góry przygotowanych tabel przekodowań (tabel korekcji).\n",
    "\n",
    "W przetwarzaniu obrazów najczęściej wykorzystuje się następujące funkcje:\n",
    "- typu kwadratowa, pierwiastek kwadratowy\n",
    "- typu logarytm, odwrócony logarytm\n",
    "- typu wykładnicza,\n",
    "- inne (np. piłokształtna)."
   ]
  },
  {
   "cell_type": "markdown",
   "metadata": {},
   "source": [
    "W tym zadaniu zostały dla Państwa przygotowane tablice przekodowania.\n",
    "Proszę pobrać je z githuba `https://raw.githubusercontent.com/vision-agh/poc_sw/master/02_Point/lut.py` (można użyć znanego polecenia !wget), a następnie zaimportować je poleceniem `import lut`.\n",
    "Od tego momentu można się do nich odwoływać w następujący sposób: `lut.log` itd."
   ]
  },
  {
   "cell_type": "code",
   "execution_count": null,
   "metadata": {},
   "outputs": [],
   "source": [
    "import os\n",
    "\n",
    "if not os.path.exists(\"lut.py\") :\n",
    "    !wget https://raw.githubusercontent.com/vision-agh/poc_sw/master/02_Point/lut.py"
   ]
  },
  {
   "cell_type": "markdown",
   "metadata": {},
   "source": [
    "Wyświetl przykładowe przekodowanie wykorzystując funkcję `plt.plot(lut.kwadratowa)`."
   ]
  },
  {
   "cell_type": "code",
   "execution_count": null,
   "metadata": {},
   "outputs": [],
   "source": [
    "import lut\n",
    "plt.plot(lut.kwadratowa)"
   ]
  },
  {
   "cell_type": "markdown",
   "metadata": {},
   "source": [
    "Wybierz jeden z obrazów: _lena.bmp_ lub _jet.bmp_ (w razie potrzeby pobierz go z githuba):\n",
    "- https://raw.githubusercontent.com/vision-agh/poc_sw/master/02_Point/lena.bmp\n",
    "- https://raw.githubusercontent.com/vision-agh/poc_sw/master/02_Point/jet.bmp\n",
    "\n",
    "Wczytaj go i wyświetl."
   ]
  },
  {
   "cell_type": "code",
   "execution_count": null,
   "metadata": {},
   "outputs": [],
   "source": [
    "if not os.path.exists(\"lena.bmp\") :\n",
    "    !wget https://raw.githubusercontent.com/vision-agh/poc_sw/master/02_Point/lena.bmp"
   ]
  },
  {
   "cell_type": "code",
   "execution_count": null,
   "metadata": {},
   "outputs": [],
   "source": [
    "\n",
    "Lena = cv2.imread('lena.bmp')\n",
    "LENA_1 = cv2.cvtColor(Lena, cv2.COLOR_RGB2GRAY)\n",
    "plt.imshow(LENA_1)\n",
    "plt.xticks([])\n",
    "plt.yticks([])\n",
    "plt.gray()\n",
    "plt.show()"
   ]
  },
  {
   "cell_type": "markdown",
   "metadata": {},
   "source": [
    "Na wybranym obrazie wykonaj operację LUT.\n",
    "Służy do tego funkcja `cv2.LUT` przyjmująca dwa argumenty: obraz oraz tablicę przekodowania.\n",
    "Wybierz dowolną z zaimportowanych tablic i wyświetl wynikowy obraz."
   ]
  },
  {
   "cell_type": "code",
   "execution_count": null,
   "metadata": {},
   "outputs": [],
   "source": [
    "LUT_LENA_1=cv2.LUT(LENA_1,lut.log)\n",
    "plt.imshow(LUT_LENA_1)\n",
    "plt.xticks([])\n",
    "plt.yticks([])\n",
    "plt.gray()\n",
    "plt.show()"
   ]
  },
  {
   "cell_type": "markdown",
   "metadata": {},
   "source": [
    "Aby lepiej zobaczyć w jaki sposób działają różne przekodowania LUT, skonstruujemy funkcję, która jako argumenty pobierać będzie obrazek oryginalny oraz tablicę przekodowania, a następnie na wspólnym rysunku będzie wyświetlać: funkcję, obraz wejściowy oraz wynik przekodowania.\n",
    "\n",
    "Przypomnienie składni tworzenia funkcji w pythonie:\n",
    "```{python}\n",
    "  def nazwa_funkcji(para, metry):\n",
    "  \t# cialo funkcji\n",
    "```"
   ]
  },
  {
   "cell_type": "markdown",
   "metadata": {},
   "source": [
    "  - Stwórz nową funkcję i nazwij ją LUT.\n",
    "  - Funkcja powinna przyjmować dwa parametry: obraz oraz tablicę przekodowania.\n",
    "  - W ciele funkcji wykonaj przekodowanie LUT, podobnie jak wcześniej w przykładzie.\n",
    "  - Funkcja powinna wyświetlić wykres składający się z 3 umieszczonych obok siebie pól: wykres przekodowania, obraz oryginalny oraz obraz przekształcony.\n",
    "    Każdy z wykresów powinien być podpisany.\n",
    "    _(W razie problemów można przypomnieć sobie te zagadnienia z laboratorium wprowadzającego)_\n",
    "  - Jeśli wykres przekodowania jest zbyt rozciągnięty, można go wyrównać, np. `ax2.set_aspect('equal')`."
   ]
  },
  {
   "cell_type": "code",
   "execution_count": null,
   "metadata": {},
   "outputs": [],
   "source": [
    "def LUT(obraz,board):\n",
    "    obraz_1=cv2.LUT(obraz,board)\n",
    "    fig, (a1,a2,a3) = plt.subplots(1,3,figsize=(10,10))\n",
    "    fig,a1.set_title('Wykres przekodowania')\n",
    "    fig,a2.set_title('Obraz orginalny')\n",
    "    fig,a3.set_title('Obraz przekształcony')\n",
    "    a1.plot(board)\n",
    "    a1.set_aspect('equal')\n",
    "    a2.imshow(obraz)\n",
    "    a3.imshow(obraz_1)\n",
    "    \n",
    "    a1.set_xticks([])\n",
    "    a1.set_yticks([])\n",
    "    a2.set_xticks([])\n",
    "    a2.set_yticks([])\n",
    "    a3.set_xticks([])\n",
    "    a3.set_yticks([])\n",
    "    plt.show()"
   ]
  },
  {
   "cell_type": "markdown",
   "metadata": {},
   "source": [
    "Wywołaj przygotowaną funkcję dla każdego z przekształceń.\n",
    "W wyniku powinno powstać 7 wykresów."
   ]
  },
  {
   "cell_type": "code",
   "execution_count": null,
   "metadata": {},
   "outputs": [],
   "source": [
    "for i in (lut.kwadratowa,lut.log,lut.odwlog,lut.odwrotna,lut.pierwiastkowa,lut.pila,lut.wykladnicza):\n",
    "    LUT(LENA_1,i)"
   ]
  },
  {
   "cell_type": "markdown",
   "metadata": {},
   "source": [
    "## Operacja arytmetyczne\n",
    "\n",
    "### Dodawanie\n",
    "\n",
    "Wczytaj dwa obrazy _lena.bmp_ i _jet.bmp_ i wyświetl je."
   ]
  },
  {
   "cell_type": "code",
   "execution_count": null,
   "metadata": {},
   "outputs": [],
   "source": [
    "if not os.path.exists(\"lena.bmp\") :\n",
    "    !wget https://raw.githubusercontent.com/vision-agh/poc_sw/master/02_Point/lena.bmp\n",
    "        \n",
    "lena = cv2.imread('lena.bmp')\n",
    "lena = cv2.cvtColor(lena, cv2.COLOR_RGB2GRAY)\n",
    "\n",
    "\n",
    "if not os.path.exists(\"jet.bmp\") :\n",
    "    !wget https://raw.githubusercontent.com/vision-agh/poc_sw/master/02_Point/jet.bmp\n",
    "        \n",
    "jet = cv2.imread('jet.bmp')\n",
    "jet = cv2.cvtColor(jet, cv2.COLOR_RGB2GRAY)\n",
    "\n",
    "plt.imshow(lena)\n",
    "plt.xticks([])\n",
    "plt.yticks([])\n",
    "plt.gray()\n",
    "plt.show()\n",
    "\n",
    "plt.imshow(jet)\n",
    "plt.xticks([])\n",
    "plt.yticks([])\n",
    "plt.gray()\n",
    "plt.show()"
   ]
  },
  {
   "cell_type": "markdown",
   "metadata": {},
   "source": [
    "Dodaj obrazy _lena_ i _jet_, wykorzystaj funkcję `cv2.add`.\n",
    "Uzyskany wynik wyświetl."
   ]
  },
  {
   "cell_type": "code",
   "execution_count": null,
   "metadata": {},
   "outputs": [],
   "source": [
    "dodawanie = cv2.add(lena, jet)\n",
    "plt.imshow(dodawanie)\n",
    "plt.xticks([])\n",
    "plt.yticks([])\n",
    "plt.gray()\n",
    "\n",
    "plt.show()"
   ]
  },
  {
   "cell_type": "markdown",
   "metadata": {},
   "source": [
    "Czy wynik sumowania jest satysfakcjonujący?\n",
    "Co może niekorzystnie wpływać na rezultat operacji?\n",
    "Spróbuj wykonać dodawanie ponownie wykorzystując typ uint16 (`jet.astype('uint16')`).\n",
    "Wynikowy obraz należy przeskalować do zakresu 0-255, zamienić na typ uint8 i wyświetlić. _\n",
    "Uwaga: operacja ta jest użyteczna w przypadku, gdy dane do wyświetlenia wykraczają poza zakres 0-255, w przeciwnym przypadku jej wykorzystanie może zniekształcić wyniki._"
   ]
  },
  {
   "cell_type": "code",
   "execution_count": null,
   "metadata": {},
   "outputs": [],
   "source": [
    "#Niestety wynik sumowania nie jest satysfakcjonujący ponieważ jest niewyraźny. Wynika to najwidoczniej z tego,iż wartości \n",
    "#przekraczają zakres 255 z tego też powodu wyświetlane są białe piksele.\n",
    "\n",
    "\n",
    "import cv2 as cv\n",
    "import numpy as ppool\n",
    "\n",
    "Lena_2 = lena.astype('uint16')\n",
    "jet_2 = jet.astype('uint16')\n",
    "dodawanie_1 = cv.add(Lena_2,jet_2)\n",
    "norm = ppool.zeros((256,256))\n",
    "final = cv.normalize(dodawanie_1,  norm, 0, 255, cv.NORM_MINMAX)\n",
    "dodawanie_2=final.astype('uint8')\n",
    "plt.imshow(dodawanie_2)\n",
    "plt.title(\"obraz po przeskalowaniu\")\n",
    "plt.xticks([])\n",
    "plt.yticks([])\n",
    "plt.show()\n",
    "\n",
    "#Obraz po przeskalowaniu jest znacznie w lepszej jakości wynika to głównie z przeskalowania powyższego obrazu"
   ]
  },
  {
   "cell_type": "markdown",
   "metadata": {},
   "source": [
    "### Kombinacja liniowa\n",
    "\n",
    "Do wykonywania operacji kombinacji liniowej służy funkcja `cv2.addWeighted`.\n",
    "Zapoznaj się z dokumentacją tej funkcji i przetestuj kilka kombinacji liniowych obrazów _lena_ i _jet_.\n",
    "Wyświetl wynik dowolnej z nich."
   ]
  },
  {
   "cell_type": "code",
   "execution_count": null,
   "metadata": {},
   "outputs": [],
   "source": [
    "alpha = 0.3\n",
    "beta = 1 - alpha\n",
    "gamma = 0.5\n",
    "dst = alpha * lena + beta * jet + gamma\n",
    "combination=cv2.addWeighted(lena,alpha,jet,beta,gamma,dst) \n",
    "plt.imshow(combination)\n",
    "plt.xticks([])\n",
    "plt.yticks([])\n",
    "plt.title(\"kombinacja dwóch obrazów\")\n",
    "plt.gray()\n",
    "plt.show()"
   ]
  },
  {
   "cell_type": "markdown",
   "metadata": {},
   "source": [
    "### Odejmowanie\n",
    "\n",
    "Wykorzystując funkcję `cv2.subtract` odejmij obrazy _lena_ i _jet_."
   ]
  },
  {
   "cell_type": "code",
   "execution_count": null,
   "metadata": {},
   "outputs": [],
   "source": [
    "odejmowanie = cv2.subtract(lena,jet)\n",
    "plt.imshow(odejmowanie)\n",
    "plt.xticks([])\n",
    "plt.yticks([])\n",
    "plt.gray()\n",
    "plt.title(\"odejmowanie dwóch obrazów\")\n",
    "plt.show()"
   ]
  },
  {
   "cell_type": "markdown",
   "metadata": {},
   "source": [
    "Czy wynik odejmowania jest satysfakcjonujący?\n",
    "Co może niekorzystnie wpływać na rezultat operacji?\n",
    "Często zamiast zwykłego odejmowania wykorzystuje się operację wartość bezwzględna z różnicy (pozwala to między innymi uniknąć pokazanych powyżej problemów).\n",
    "Zamień typ obrazów _lena_ i _jet_ z uint8 na **int16**, odejmij je od siebie, a następnie wykorzystując funkcję `np.abs` wykonaj operację wartość bezwzględna z różnicy.\n",
    "Wyświetl ten obraz.\n",
    "Zastanów się, dlaczego ta zmiana poprawia wynik odejmowania?"
   ]
  },
  {
   "cell_type": "code",
   "execution_count": null,
   "metadata": {},
   "outputs": [],
   "source": [
    "#Wynik odejmowania nie jest satysfakcjonujący, ponieważ w wyniku odejmowania część obrazu została\n",
    "#zastąpiona zerami, wynika to z tego, że poprzez odejmowanie możemy otrzymać liczby ujemne.\n",
    "\n",
    "jet_int16 = jet.astype('int16')\n",
    "lena_int16 = lena.astype('int16')\n",
    "odejmowanie_16 = cv2.subtract(lena_int16, jet_int16)\n",
    "normalizacja = cv2.normalize(odejmowanie_16, odejmowanie_16, 0, 255, cv2.NORM_MINMAX)\n",
    "int16 = odejmowanie_16.astype('int16')\n",
    "bezw = np.abs(int16)\n",
    "plt.imshow(bezw)\n",
    "plt.xticks([])\n",
    "plt.yticks([])\n",
    "plt.gray()\n",
    "plt.show()\n",
    "#Zniwelowaliśmy problem poprzez zastosowanie wartości bezwględnej dzięki temu otrzymaliśmy liczby nieujemne."
   ]
  },
  {
   "cell_type": "markdown",
   "metadata": {},
   "source": [
    "### Mnożenie\n",
    "\n",
    "Mnożenie dwóch obrazów pozwala wykonać funkcja `cv2.multiply`.\n",
    "Wykonaj mnożenie obrazów _lena_ i _jet_.\n",
    "Czy wynik takiej operacji zawiera jakąś istotną informację?\n",
    "Dlaczego?"
   ]
  },
  {
   "cell_type": "code",
   "execution_count": null,
   "metadata": {},
   "outputs": [],
   "source": [
    "mnozenie = cv2.multiply(lena,jet)\n",
    "plt.imshow(mnozenie)\n",
    "plt.xticks([])\n",
    "plt.yticks([])\n",
    "plt.show()\n",
    "#W wyniku mnożenia obrazów otrzymamy obraz, któy nie zawiera żadnych informacji. Kiedy mamy do czynienia z przemnożeniem\n",
    "#liczby przez obraz możemy otrzymać obraz rozjasniony lub przyciemniony"
   ]
  },
  {
   "cell_type": "markdown",
   "metadata": {},
   "source": [
    "Mnożenie częściej wykorzystuje się jako:\n",
    "  + mnożenie przez stałą $-$ co powoduje ogólne rozjaśnienie albo ściemnienie obrazu,\n",
    "  + mnożenie przez maskę $-$ czyli obraz binarny."
   ]
  },
  {
   "cell_type": "markdown",
   "metadata": {},
   "source": [
    "Wczytaj maskę _kolo.bmp_ (https://raw.githubusercontent.com/vision-agh/poc_sw/master/02_Point/kolo.bmp).\n",
    "Przemnóż wybrany obraz przez maskę i wyświetl wynik.\n",
    "Mnożenie przez maskę można zrealizować za pomocą funkcji `cv2.multiply`, ale maskę należy należy najpierw przekształcić z zakresu 0-255 do 0-1, na przykład `(maska).astype('bool').astype('uint8')`."
   ]
  },
  {
   "cell_type": "code",
   "execution_count": null,
   "metadata": {},
   "outputs": [],
   "source": [
    "if not os.path.exists(\"kolo.bmp\") :\n",
    "    !wget https://raw.githubusercontent.com/vision-agh/poc_sw/master/02_Point/kolo.bmp\n",
    "\n",
    "kolo = cv2.imread(\"kolo.bmp\")\n",
    "kolo = cv2.cvtColor(kolo, cv2.COLOR_RGB2GRAY)\n",
    "\n",
    "maska_kolo = kolo.astype('bool').astype('uint8')\n",
    "maska_lena = cv2.multiply(lena, maska_kolo)\n",
    "\n",
    "plt.imshow(maska_lena)\n",
    "plt.xticks([])\n",
    "plt.yticks([])\n",
    "plt.show()        "
   ]
  },
  {
   "cell_type": "markdown",
   "metadata": {},
   "source": [
    "### Negatyw\n",
    "\n",
    "Negatyw obrazu uzyskuje się za pomocą funkcji `cv2.bitwise_not(img)`\n",
    "Negatyw obrazu można również uzyskać wykorzystując przekodowanie LUT.\n",
    "Można w tym celu posłużyć się przygotowaną wcześniej tablicą `lut.odwrotna`.\n",
    "Przetestuj działanie tych funkcji i wykonaj negatyw obrazu _lena_ dowolnym sposobem."
   ]
  },
  {
   "cell_type": "code",
   "execution_count": null,
   "metadata": {},
   "outputs": [],
   "source": [
    "negatyw = cv2.bitwise_not(lena)\n",
    "\n",
    "plt.imshow(negatyw)\n",
    "plt.xticks([])\n",
    "plt.yticks([])   \n",
    "plt.show()"
   ]
  },
  {
   "cell_type": "markdown",
   "metadata": {},
   "source": [
    "## Operacje logiczne\n",
    "\n",
    "Na poszczególnych punktach obrazu (najczęściej binarnego $-$ czyli składającego się z dwóch kolorów: czarnego i białego) można wykonywać operacje logiczne: NOT, AND, OR, XOR itp.\n",
    "Wczytaj dwa obrazy: _kolo.bmp_ i _kwadrat.bmp_ (https://raw.githubusercontent.com/vision-agh/poc_sw/master/02_Point/kwadrat.bmp), następnie wyświetl je."
   ]
  },
  {
   "cell_type": "code",
   "execution_count": null,
   "metadata": {},
   "outputs": [],
   "source": [
    "if not os.path.exists(\"kolo.bmp\") :\n",
    "     !wget https://raw.githubusercontent.com/vision-agh/poc_sw/master/02_Point/kolo.bmp\n",
    "kolo = cv2.imread(\"kolo.bmp\")\n",
    "kolo = cv2.cvtColor(kolo, cv2.COLOR_RGB2GRAY)\n",
    "\n",
    "if not os.path.exists(\"kwadrat.bmp\") :\n",
    "    !wget https://raw.githubusercontent.com/vision-agh/poc_sw/master/02_Point/kwadrat.bmp\n",
    "        \n",
    "kwadrat = cv2.imread(\"kwadrat.bmp\")\n",
    "kwadrat = cv2.cvtColor(kwadrat, cv2.COLOR_RGB2GRAY)\n",
    "\n",
    "plt.imshow(kwadrat)\n",
    "plt.xticks([])\n",
    "plt.yticks([])   \n",
    "plt.show()\n",
    "\n",
    "plt.imshow(kolo)\n",
    "plt.xticks([])\n",
    "plt.yticks([])   \n",
    "plt.show()"
   ]
  },
  {
   "cell_type": "markdown",
   "metadata": {},
   "source": [
    "Na wczytanych obrazach wykonaj wybrane operacje logiczne: NOT (operator `~`), AND (`&`), OR (`|`), XOR (`^`).\n",
    "Operator `~` jest jednoargumentowy, wszystkie pozostałe są dwuargumentowe.\n",
    "Alternatywnym sposobem jest wykorzystanie funkcji z biblioteki opencv: `cv2.bitwise_not`, `cv2.bitwise_and`, `cv2.bitwise_or`, `cv2.bitwise_xor`.\n",
    "Wyświetl rezultaty."
   ]
  },
  {
   "cell_type": "code",
   "execution_count": 1,
   "metadata": {
    "pycharm": {
     "name": "#%%\n"
    }
   },
   "outputs": [
    {
     "ename": "NameError",
     "evalue": "name 'kwadrat' is not defined",
     "output_type": "error",
     "traceback": [
      "\u001b[1;31m---------------------------------------------------------------------------\u001b[0m",
      "\u001b[1;31mNameError\u001b[0m                                 Traceback (most recent call last)",
      "\u001b[1;32m<ipython-input-1-9ed01d128450>\u001b[0m in \u001b[0;36m<module>\u001b[1;34m\u001b[0m\n\u001b[1;32m----> 1\u001b[1;33m \u001b[0mNot\u001b[0m \u001b[1;33m=\u001b[0m \u001b[1;33m~\u001b[0m\u001b[0mkwadrat\u001b[0m\u001b[1;33m\u001b[0m\u001b[1;33m\u001b[0m\u001b[0m\n\u001b[0m\u001b[0;32m      2\u001b[0m \u001b[0mAnd\u001b[0m \u001b[1;33m=\u001b[0m \u001b[0mkolo\u001b[0m\u001b[1;33m&\u001b[0m\u001b[0mkwadrat\u001b[0m\u001b[1;33m\u001b[0m\u001b[1;33m\u001b[0m\u001b[0m\n\u001b[0;32m      3\u001b[0m \u001b[0mOr\u001b[0m \u001b[1;33m=\u001b[0m \u001b[0mkolo\u001b[0m\u001b[1;33m|\u001b[0m\u001b[0mkwadrat\u001b[0m\u001b[1;33m\u001b[0m\u001b[1;33m\u001b[0m\u001b[0m\n\u001b[0;32m      4\u001b[0m \u001b[0mXor\u001b[0m \u001b[1;33m=\u001b[0m \u001b[0mkolo\u001b[0m\u001b[1;33m^\u001b[0m\u001b[0mkwadrat\u001b[0m\u001b[1;33m\u001b[0m\u001b[1;33m\u001b[0m\u001b[0m\n\u001b[0;32m      5\u001b[0m \u001b[1;33m\u001b[0m\u001b[0m\n",
      "\u001b[1;31mNameError\u001b[0m: name 'kwadrat' is not defined"
     ]
    }
   ],
   "source": [
    "Not = ~kwadrat\n",
    "And = kolo&kwadrat\n",
    "Or = kolo|kwadrat\n",
    "Xor = kolo^kwadrat\n",
    "\n",
    "\n",
    "f, (a1,a2,a3,a4) = plt.subplots(1, 4, figsize=(30,30))\n",
    "a1.set_title('NOT')\n",
    "a2.set_title('AND')\n",
    "a3.set_title('OR')\n",
    "a4.set_title('XOR')\n",
    "a1.imshow(Not)\n",
    "a2.imshow(And)\n",
    "a3.imshow(Or)\n",
    "a4.imshow(Xor)\n",
    "\n",
    "a1.set_xticks([])\n",
    "a1.set_yticks([])\n",
    "a2.set_xticks([])\n",
    "a2.set_yticks([])\n",
    "a3.set_xticks([])\n",
    "a3.set_yticks([])\n",
    "a4.set_xticks([])\n",
    "a4.set_yticks([])\n",
    "plt.show()"
   ]
  },
  {
   "cell_type": "code",
   "execution_count": null,
   "metadata": {},
   "outputs": [],
   "source": []
  }
 ],
 "metadata": {
  "kernelspec": {
   "display_name": "Python 3",
   "language": "python",
   "name": "python3"
  },
  "language_info": {
   "codemirror_mode": {
    "name": "ipython",
    "version": 3
   },
   "file_extension": ".py",
   "mimetype": "text/x-python",
   "name": "python",
   "nbconvert_exporter": "python",
   "pygments_lexer": "ipython3",
   "version": "3.8.8"
  }
 },
 "nbformat": 4,
 "nbformat_minor": 4
}
