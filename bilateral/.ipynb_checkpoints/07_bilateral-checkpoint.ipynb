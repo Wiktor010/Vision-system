{
 "cells": [
  {
   "cell_type": "markdown",
   "metadata": {
    "pycharm": {
     "name": "#%% md\n"
    }
   },
   "source": [
    "# Filtracja bilateralna"
   ]
  },
  {
   "cell_type": "markdown",
   "metadata": {
    "pycharm": {
     "name": "#%% md\n"
    }
   },
   "source": [
    "## Konwolucja obrazu z filtrem o zadanych współczynnikach\n",
    "\n",
    "Splot (konwolucję) obrazu wejściowego $I$ z filtrem $\\psi$ dla ustalonego punktu obrazu $\\mathbf{x}$ można przedstawić następująco:\n",
    "\n",
    "\\begin{equation}\n",
    "\\hat{I}(\\mathbf{x}) = \\frac{1}{W_N}\\sum_{\\mathbf{p} \\in \\eta(\\mathbf{x})} \\psi(||\\mathbf{p}-\\mathbf{x}||)I(\\mathbf{p})\n",
    "\\tag{1}\n",
    "\\end{equation}\n",
    "\n",
    "gdzie:\n",
    "- $\\hat{I}$ jest obrazem wynikowym (przefiltrowanym),\n",
    "- $W_N = \\sum_y \\psi(y)$ jest parametrem normalizującym współczynniki filtra $\\psi$,\n",
    "- $||\\cdot||$ jest odległością między punktami obrazu $\\mathbf{x}$ i $\\mathbf{p}$ według ustalonej metryki (np. norma $L_2$). Uwaga, proszę pamiętać, że zarówno $\\mathbf{x}$, jak i $\\mathbf{p}$ to współrzędne przestrzenne,\n",
    "- $\\eta(\\mathbf{x})$ jest otoczeniem punktu $\\mathbf{x}$.\n",
    "\n",
    "Funkcja $\\psi$ decyduje o charakterze filtracji. Dla filtru Gaussowskiego:\n",
    "\n",
    "\\begin{equation}\n",
    "\\psi(y) = G_{\\delta_s}(y)\n",
    "\\tag{2}\n",
    "\\end{equation}\n",
    "\n",
    "gdzie: $G_{\\delta_s}(y)$ jest funkcją Gaussa z parametrem skali $\\delta_s$.\n",
    "\n",
    "Opisaną powyżej filtrację realizowaliśmy w ramach ćwiczenia \"Przetwarzanie wstępne. Filtracja kontekstowa.\""
   ]
  },
  {
   "cell_type": "markdown",
   "metadata": {
    "pycharm": {
     "name": "#%% md\n"
    }
   },
   "source": [
    "## Filtracja bilateralna\n",
    "\n",
    "Wadą klasycznego splotu jest brak adaptacji współczynników filtra do lokalnego otoczenia $\\eta(\\mathbf{x})$ filtrowanego punktu $\\mathbf{x}$.\n",
    "Oznacza to wykorzystanie tych samych współczynników filtra $\\psi$ niezależnie od tego czy otoczenie jest względnie jednorodne lub zawiera krawędzie obiektów (w tym przypadku dochodzi do \"rozmywania\" krawędzi).\n",
    "Filtracja bilateralna uwzględnia lokalne otoczenie filtrowanego punktu, w ten sposób, że parametry filtra zmieniają się w zależności od \"wyglądu\" otoczenia.\n",
    "\n",
    "\n",
    "Współczynniki filtra obliczane są na podstawie odległości filtrowanego punktu $\\mathbf{x}$ od każdego punktu otoczenia $\\mathbf{p}$ w dziedzinie przestrzennej obrazu (tak jak przy typowym filtrze np. Gaussa) oraz odległości punktów w przeciwdziedzinie obrazu (np. na podstawie różnicy w jasności pikseli dla obrazu w odcieniach szarości):\n",
    "\n",
    "\\begin{equation}\n",
    "\\hat{I}(\\mathbf{x}) = \\frac{1}{W_N}\\sum_{\\mathbf{p} \\in \\eta(\\mathbf{x})} \\psi(||\\mathbf{p}-\\mathbf{x}||) \\gamma(|I(\\mathbf{p}) - I(\\mathbf{x})|) I(\\mathbf{p})\n",
    "\\tag{3}\n",
    "\\end{equation}\n",
    "gdzie:\n",
    "- $W_N$ jest współczynnikiem normalizującym filtr,\n",
    "- $\\gamma$ jest funkcją odległości w przeciwdziedzinie obrazu, np. $\\gamma(y)=\\exp(-\\frac{y^2}{2\\delta_r^2})$\n",
    "- parametr $\\delta_r$ jest utożsamiany z poziomem szumu w obrazie i należy go dobrać w sposób empiryczny.\n",
    "\n",
    "Proszę chwilę zastanowić się nad powyższym równaniem, w szczególności nad funkcją $\\gamma$. Proszę wyznaczyć, jaka będzie wartość funkcji dla pikseli podobnych (różnica 0, 1, 2), a skrajnie różnych (255, 200).\n",
    "\n",
    "##  Realizacja ćwiczenia\n",
    "\n",
    "### Wczytanie danych\n",
    "\n",
    "1. Wczytaj dane z pliku *MR_data.mat*. W tym celu wykorzystaj funkcję `loadmat` z pakietu scipy:\n",
    "        from scipy.io import loadmat\n",
    "        mat = loadmat('MR_data.mat')\n",
    "\n",
    "2. Wczytany plik zawiera 5 obrazów: *I_noisefree*, *I_noisy1*, *I_noisy2*, *I_noisy3* oraz *I_noisy4*. Odczytać je można w następujący sposób:\n",
    "        Input = mat['I_noisy1']\n",
    "\n",
    "3. Wyświetl wybrany obraz z pliku *MR_data.mat*. Zagadka - co to za obrazowanie medyczne?"
   ]
  },
  {
   "cell_type": "code",
   "execution_count": null,
   "metadata": {
    "pycharm": {
     "name": "#%% Zadanie 1 - wyświetlanie\n"
    }
   },
   "outputs": [],
   "source": [
    "from matplotlib import pyplot as plt\n",
    "import numpy as np\n",
    "from scipy.io import loadmat\n",
    "import math\n",
    "import os\n",
    "from scipy import signal\n",
    "import cv2\n",
    "import copy\n",
    "\n",
    "if not os.path.exists(\"MR_data.mat\") :\n",
    "    !wget https://raw.githubusercontent.com/vision-agh/poc_sw/master/07_Bilateral/MR_data.mat --no-check-certificate\n",
    "\n",
    "#TODO Samodzielna\n",
    "\n",
    "mat = loadmat('MR_data.mat')\n",
    "\n",
    "I = mat['I_noisy1']\n",
    "Input_2 = mat['I_noisy2']\n",
    "Input_3 = mat['I_noisy3']\n",
    "Input_4 = mat['I_noisy4']\n",
    "Input_0 = mat['I_noisefree']\n",
    "\n",
    "plt.imshow(I, 'gray')\n",
    "plt.axis('off')\n",
    "plt.show()\n",
    "\n",
    "# To obrazowanie to rezonans magnetyczny."
   ]
  },
  {
   "cell_type": "markdown",
   "metadata": {
    "pycharm": {
     "name": "#%% md\n"
    }
   },
   "source": [
    "### \"Klasyczna\" konwolucja\n",
    "\n",
    "1. Zdefiniuj parametry filtra Gaussowskiego: rozmiar okna i wariancję $\\delta_S$.\n",
    "2. Oblicz współczynniki filtra na podstawie zdefiniowanych parametrów (najprościej w ramach podwójnej pętli for).\n",
    "2. Sprawdź ich poprawność i zwizualizuj filtr (tak jak w ćwiczeniu pt. \"Przetwarzanie wstępne. Filtracja kontekstowa.\").\n",
    "3. Wykonaj kopię obrazu wejściowego: `IConv = Input.copy()`\n",
    "4. Wykonaj podwójną pętlę po obrazie. Pomiń ramkę, dla której nie jest zdefiniowany kontekst o wybranej wielkości.\n",
    "5. W każdej iteracji stwórz dwuwymiarową tablicę zawierającą aktualny kontekst.\n",
    "6. Napisz funkcję, która będzie obliczała nową wartość piksela.\n",
    "Argumentem tej funkcji są aktualnie przetwarzane okno i współczynniki filtra.\n",
    "7. Obliczoną wartość przypisz do odpowiedniego piksela kopii obrazu wejściowego.\n",
    "8. Wyświetl wynik filtracji.\n",
    "9. Porównaj wynik z obrazem oryginalnym."
   ]
  },
  {
   "cell_type": "code",
   "execution_count": null,
   "metadata": {
    "pycharm": {
     "name": "#%% Zadanie 2 - konwolucja\n"
    }
   },
   "outputs": [],
   "source": [
    "#TODO Samodzielna\n",
    "def fgaussian(size, sigma):\n",
    "    m = n = size\n",
    "    h, k = m // 2, n // 2\n",
    "    x, y = np.mgrid[-h:h+1, -k:k+1]\n",
    "    g = np.exp(-(x**2 + y**2)/(2*sigma**2))\n",
    "    return g /g.sum() \n",
    "    \n",
    "def mesh(size, sigma):\n",
    "    m = n = size\n",
    "    h, k = m//2, n//2\n",
    "    x, y = np.mgrid[-h:h+1, -k:k+1]\n",
    "    g = np.exp(-(x**2 + y**2)/(2*sigma**2))\n",
    "    return g "
   ]
  },
  {
   "cell_type": "code",
   "execution_count": null,
   "metadata": {},
   "outputs": [],
   "source": [
    "size = 5\n",
    "n=3\n",
    "sigma_s = 0.6\n",
    "\n",
    "M = fgaussian(n, sigma_s)\n",
    "M = M/sum(sum(M));       \n",
    "I_Conv = I.copy()\n",
    "\n",
    "def wsp(okno, filtr, wariancja):\n",
    "    A,B = okno.shape\n",
    "    piksel = 0\n",
    "    x = [A // 2, B // 2]\n",
    "    for i in range(A):\n",
    "        for j in range(B):\n",
    "            AB = [i, j]\n",
    "            y = np.sqrt(((x[0] - i)**2) + ((x[1] - j)**2))\n",
    "            g = np.exp(-(y**2)/(2*(wariancja**2)))\n",
    "            piksel = piksel + g * okno[i, j]\n",
    "    piksel = piksel / filtr.sum()\n",
    "    return piksel\n",
    "\n",
    "\n",
    "def konwolucja(obraz, okno, wariancja):\n",
    "    filtr = mesh(5, wariancja)\n",
    "    IConv = obraz.copy()\n",
    "    (X,Y) = IConv.shape\n",
    "    polowa_okna = okno // 2\n",
    "    for i in range(0 + polowa_okna, X - polowa_okna):\n",
    "        for j in range(0 + polowa_okna, Y - polowa_okna):\n",
    "            okno = IConv[i - polowa_okna : i + polowa_okna + 1, j - polowa_okna : j + polowa_okna + 1]\n",
    "            new_pixel = wsp(okno, filtr, wariancja)\n",
    "            IConv[i, j] = new_pixel\n",
    "    return IConv\n",
    "\n",
    "img_1 = konwolucja(I, size, sigma_s)\n",
    "\n",
    "plt.figure(figsize=(15,5))\n",
    "plt.subplot(131),\n",
    "plt.imshow(I,\"gray\"),\n",
    "plt.title('Obraz oryginalny',fontsize=20)\n",
    "plt.xticks([]), plt.yticks([])\n",
    "\n",
    "plt.subplot(132),\n",
    "plt.imshow(img_1,\"gray\"),\n",
    "plt.title('Obraz przefiltrowany',fontsize=20)\n",
    "plt.xticks([]), plt.yticks([])\n",
    "#Obraz wynikowy stał się jaśniejsy od obrazu oryginalnego."
   ]
  },
  {
   "cell_type": "markdown",
   "metadata": {
    "pycharm": {
     "name": "#%% md\n"
    }
   },
   "source": [
    "### Filtracja bilateralna\n",
    "\n",
    "1. Zdefiniuj dodatkowy parametr: wariancję $\\delta_R$.\n",
    "3. Wykonaj kopię obrazu wejściowego: `IBilateral = Input.copy()`\n",
    "4. Wykonaj podwójną pętlę po obrazie. Pomiń ramkę, dla której nie jest zdefiniowany kontekst o wybranej wielkości.\n",
    "5. W każdej iteracji stwórz dwuwymiarową tablicę zawierającą aktualny kontekst.\n",
    "6. Napisz funkcję, która będzie obliczała nową wartość piksela.\n",
    "Argumentami funkcji są aktualnie przetwarzane okno, współczynniki filtra gaussowskiego (takie same jak wcześniej) i wariancja $\\delta_R$.\n",
    "7. Oblicz odległość w przeciwdziedzinie (dla wartości pikseli).\n",
    "8. Oblicz funkcję Gaussa dla obliczonych odległości z zadanym parametrem.\n",
    "9. Wykonaj normalizację obliczonych współczynników.\n",
    "10. Obliczoną wartość przypisz do odpowiedniego piksela kopii obrazu wejściowego.\n",
    "11. Wyświetl wynik filtracji.\n",
    "12. Porównaj wynik z obrazem oryginalnym."
   ]
  },
  {
   "cell_type": "code",
   "execution_count": null,
   "metadata": {
    "pycharm": {
     "name": "#%%\n"
    }
   },
   "outputs": [],
   "source": [
    "def exp(y, sigma):\n",
    "  return np.exp(-(y*y/2*sigma*sigma))\n",
    "\n",
    "def gamma(tab, sigma, Ix):\n",
    "  tab_new = np.zeros((3, 3))\n",
    "  for i in range(len(tab)):\n",
    "    for j in range(len(tab[0])):\n",
    "      tab_new[i, j] = exp(abs(tab[i, j] - Ix), sigma)\n",
    "  return tab_new\n",
    "\n",
    "def wsp_2(okno, filtr, wariancja, delta_r):\n",
    "    A,B = okno.shape\n",
    "    piksel_2 = 0\n",
    "    normalizacja = 0\n",
    "    \n",
    "    tab = [A // 2, B // 2]\n",
    "    for i in range(A):\n",
    "        for j in range(B):\n",
    "            AB = [i, j]\n",
    "            \n",
    "            y = np.sqrt(((tab[0] - i)**2) + ((tab[1] - j)**2))\n",
    "            gauss = np.exp(-(y**2) / (2*(wariancja**2)))\n",
    "            \n",
    "            roznica = np.abs(okno[A // 2, B // 2] - okno[i, j])\n",
    "            gauss_roznica = np.exp(-(roznica**2) / (2*(delta_r**2)))\n",
    "            \n",
    "            piksel_2 = piksel_2 + gauss * gauss_roznica * okno[i, j]\n",
    "            normalizacja = normalizacja+(gauss * gauss_roznica)\n",
    "    piksel_2 = piksel_2 / normalizacja\n",
    "    return piksel_2\n",
    "        \n"
   ]
  },
  {
   "cell_type": "code",
   "execution_count": null,
   "metadata": {},
   "outputs": [],
   "source": [
    "def bilateralna(obraz, okno, wariancja, delta_r):\n",
    "    filtr = mesh(okno, wariancja)\n",
    "    IConvol = obraz.copy()\n",
    "    (X,Y) = IConvol.shape\n",
    "    polowa_okna = okno//2\n",
    "    for i in range(0 + polowa_okna, X - polowa_okna):\n",
    "        for j in range(0 + polowa_okna, Y - polowa_okna):\n",
    "            okno = IConvol[i - polowa_okna : i + polowa_okna + 1, j - polowa_okna : j + polowa_okna + 1]\n",
    "            nowy_pixel = wsp_2(okno, filtr, wariancja, delta_r)\n",
    "            IConvol[i,j] = nowy_pixel\n",
    "    return IConvol"
   ]
  },
  {
   "cell_type": "code",
   "execution_count": null,
   "metadata": {},
   "outputs": [],
   "source": [
    "\n",
    "konwolucja_1 = konwolucja(I, 5, 0.7)\n",
    "\n",
    "bilateralna = bilateralna(I, 5, 0.7, 20)\n",
    "\n",
    "I_1_gaus = signal.convolve2d(I, fgaussian(5, 0.7), mode='same')\n",
    "\n",
    "f, ax = plt.subplots(2, 2, figsize=(18,16))\n",
    "ax[0,0].imshow(I, 'gray')\n",
    "ax[0,0].set_title(\"Oryginał\",fontsize=20)\n",
    "ax[0,0].axis('off')\n",
    "\n",
    "ax[1,0].imshow(konwolucja_1, 'gray')\n",
    "ax[1,0].set_title(\"Konwolucja\",fontsize=20)\n",
    "ax[1,0].axis('off')\n",
    "\n",
    "ax[0,1].imshow(bilateralna, 'gray')\n",
    "ax[0,1].set_title(\"Filtracja bilateralna\",fontsize=20)\n",
    "ax[0,1].axis('off')\n",
    "\n",
    "ax[1,1].imshow(I_1_gaus, 'gray')\n",
    "ax[1,1].set_title(\"Konwolucja z biblioteki cv2\",fontsize=20)\n",
    "ax[1,1].axis('off')"
   ]
  },
  {
   "cell_type": "code",
   "execution_count": null,
   "metadata": {},
   "outputs": [],
   "source": []
  }
 ],
 "metadata": {
  "kernelspec": {
   "display_name": "Python 3",
   "language": "python",
   "name": "python3"
  },
  "language_info": {
   "codemirror_mode": {
    "name": "ipython",
    "version": 3
   },
   "file_extension": ".py",
   "mimetype": "text/x-python",
   "name": "python",
   "nbconvert_exporter": "python",
   "pygments_lexer": "ipython3",
   "version": "3.8.8"
  }
 },
 "nbformat": 4,
 "nbformat_minor": 4
}
