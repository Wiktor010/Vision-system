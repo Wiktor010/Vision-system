{
 "cells": [
  {
   "cell_type": "markdown",
   "metadata": {
    "pycharm": {
     "name": "#%% md\n"
    }
   },
   "source": [
    "## Zadanie domowe: Projektowanie filtru metodą okien\n",
    "\n",
    "Zauważone w zadaniu z filtracją artefakty są efektem zastosowania filtru idealnego (wycięcia odpowiednich częstotliwości).\n",
    "Aby je usunąć, należy filtr idealny w dziedzinie przestrzennej przemnożyć przez dwuwymiarowe okno (stworzone na podstawie jednowymiarowego).\n",
    "\n",
    "1. Zdefiniuj rozmiar filtra (np. 21).\n",
    "\n",
    "2. Stwórz okno np. Hanninga (`np.hanning`) o zadanym rozmiarze.\n",
    "\n",
    "3. Na podstawie tego okna stwórz okno dwuwymiarowe: $F = f^Tf$.\n",
    "Można to zrealizować prostą instrukcją:\n",
    "\n",
    "        hanning2d = np.outer(hanning, hanning)\n",
    "\n",
    "4. Stwórz wzorcowy filtr idealny tak samo jak w poprzednim ćwiczeniu.\n",
    "Jego rozmiar musi być taki sam jak zdefiniowany w punkcie pierwszym.\n",
    "\n",
    "5. Generalna zasada jest taka, że należy obliczyć odwrotną transformatę Fouriera filtru idealnego.\n",
    "Aby zagwarantować jednak dobrą lokalizację i symetryczność tworzonego filtru wykorzystuje się dodatkowe rotacje i przesunięcia.\n",
    "\n",
    "        FilterFRot = np.rot90(np.fft.fftshift(np.rot90(FilterF, 2)), 2)\n",
    "        FilterFRot3 = np.dstack((FilterFRot, np.zeros(FilterFRot.shape)))\n",
    "        FilterFidft = cv2.idft(np.float32(FilterFRot3),\n",
    "                        flags=cv2.DFT_SCALE | cv2.DFT_COMPLEX_OUTPUT)\n",
    "        FilterFI = np.rot90(np.fft.fftshift(FilterFidft[:, :, 0]), 2)\n",
    "\n",
    "6. Aby otrzymać poprawny filtr należy teraz pomnożyć dwuwymiarowe okno ze stworzonym filtrem idealnym w dziedzinie przestrzennej.\n",
    "\n",
    "7. Stworzony filtr powinien zostać znowu przeniesiony do dziedziny częstotliwości.\n",
    "Należy jednak rozszerzyć go tak, aby miał taki sam rozmiar jak filtrowany obraz.\n",
    "Operację tę wykonaj tak samo jak w poprzednim ćwiczeniu (`cv2.copyMakeBorder`).\n",
    "Oblicz transformatę Fouriera i wykonaj przesunięcie.\n",
    "Następnie oblicz wartość bezwzględną (dzięki temu filtr nie będzie wpływał na fazę).\n",
    "Wynikiem jest poprawiony filtr w dziedzinie częstotliwości.\n",
    "\n",
    "8. Przeprowadź filtrację obrazu *lena.bmp* za pomocą zaprojektowanego filtra.\n",
    "Wyświetl filtr, oraz wynik filtracji.\n",
    "Do wyświetlenia filtru możesz użyć przestrzeń częstotliwości wygenerowaną w poprzednim zadaniu (*FSpaceRowsM* i *FSpaceColsM*)."
   ]
  },
  {
   "cell_type": "code",
   "execution_count": null,
   "metadata": {
    "pycharm": {
     "name": "#%% Zadanie 4 - okna\n"
    }
   },
   "outputs": [],
   "source": [
    "import cv2\n",
    "from matplotlib import pyplot as plt\n",
    "import numpy as np\n",
    "import math\n",
    "import os\n",
    "\n",
    "# Load required files\n",
    "if not os.path.exists(\"lena.bmp\") :\n",
    "    !wget https://raw.githubusercontent.com/vision-agh/poc_sw/master/08_Fourier/lena.bmp --no-check-certificate\n"
   ]
  },
  {
   "cell_type": "code",
   "execution_count": null,
   "metadata": {},
   "outputs": [],
   "source": [
    "I_lena = cv2.imread('lena.bmp', cv2.IMREAD_GRAYSCALE)    "
   ]
  },
  {
   "cell_type": "code",
   "execution_count": null,
   "metadata": {},
   "outputs": [],
   "source": [
    "def fourier(obraz):\n",
    "    obraz = obraz.astype(\"float32\")\n",
    "    F_fourier = cv2.dft(obraz,flags=cv2.DFT_COMPLEX_OUTPUT)\n",
    "    F_fourier = np.fft.fftshift(F_fourier, [0,1])\n",
    "    amplituda, faza = cv2.cartToPolar(F_fourier[:,:,0], F_fourier[:,:,1])\n",
    "    amplituda_log = np.log10(amplituda+1)\n",
    "    \n",
    "    return F_fourier, amplituda_log, faza"
   ]
  },
  {
   "cell_type": "code",
   "execution_count": null,
   "metadata": {},
   "outputs": [],
   "source": [
    "def odwrotna(F_obraz):\n",
    "    przesuniecie = np.fft.ifftshift(F_obraz, [0,1]) #odwrotne przesuniecie\n",
    "    ifft = cv2.idft(przesuniecie, flags=cv2.DFT_SCALE | cv2.DFT_COMPLEX_OUTPUT)#odwrotna transformata\n",
    "    img_IFFT = cv2.magnitude(ifft[:, :, 0], ifft[:, :, 1])#amplituda\n",
    "    wynik_odwr= np.round(img_IFFT).astype('uint8')#zaokrąglenie\n",
    "    return wynik_odwr"
   ]
  },
  {
   "cell_type": "code",
   "execution_count": null,
   "metadata": {},
   "outputs": [],
   "source": [
    "#1 zdefiniowanie rozmiaru filtra\n",
    "rozmiar_filtra = 21\n",
    "\n",
    "#2 Okno Hanninga\n",
    "hanning=np.hanning(rozmiar_filtra)\n",
    "\n",
    "#3 Okno dwuwymiarowe\n",
    "hanning2d = np.outer(hanning, hanning)\n",
    "\n",
    "#3 Stworzenie idealnego filtru wzorcowego\n",
    "f_Fourier_lena,amplituda_lena,faza_lena=fourier(I_lena)\n",
    "okno = [rozmiar_filtra,rozmiar_filtra]\n",
    "\n",
    "#Wygenerowanie macierzy opisujących przestrzenie w dziedzinie częstotliwości\n",
    "FSpaceRows = 2*np.fft.fftshift(np.fft.fftfreq(okno[0]))\n",
    "FSpaceRowsM = np.outer(FSpaceRows, np.ones([1, okno[1]]))\n",
    "FSpaceCols = 2*np.fft.fftshift(np.fft.fftfreq(okno[1]))\n",
    "FSpaceColsM = np.outer(np.ones([1, okno[0]]), FSpaceCols) \n",
    "\n",
    "#Wyznaczenie macierzy zawierającej \"odległość\" od składowej stałej.\n",
    "FreqR = np.sqrt(np.square(FSpaceRowsM) + np.square(FSpaceColsM))\n",
    "\n",
    "#Interesujący nas zakres\n",
    "FilterF = FreqR >= 0.15\n",
    "\n",
    "#5 Dodatkowe rotacje i przesunięcia\n",
    "FilterFRot = np.rot90(np.fft.fftshift(np.rot90(FilterF, 2)), 2)\n",
    "FilterFRot3 = np.dstack((FilterFRot, np.zeros(FilterFRot.shape)))\n",
    "FilterFidft = cv2.idft(np.float32(FilterFRot3),flags=cv2.DFT_SCALE | cv2.DFT_COMPLEX_OUTPUT)\n",
    "FilterFI = np.rot90(np.fft.fftshift(FilterFidft[:, :, 0]), 2)\n",
    "\n",
    "#6 Wymnożenie dwuwymiarowego okna ze stworzonym filtrem idealnym w dziedzinie przestrzennej\n",
    "Filtr_1 =hanning2d*FilterFI\n",
    "\n",
    "#7 Przeniesienie do dziedziny częstotliwości\n",
    "Filtr_2 = cv2.copyMakeBorder(Filtr_1,246,245,246,245,cv2.BORDER_CONSTANT,value=0)\n",
    "\n",
    "#Obilczenie transformaty Fouriera\n",
    "Filtr_2 = Filtr_2.astype(\"float32\")\n",
    "Filtr_3 = cv2.dft(Filtr_2,flags=cv2.DFT_COMPLEX_OUTPUT)\n",
    "\n",
    "#Wykonanie przesunięcia\n",
    "Filtr_3 = np.fft.fftshift(Filtr_3, [0,1])\n",
    "\n",
    "#Obliczenie wartości bezwględnej\n",
    "Filtr_4 = np.abs(Filtr_3)\n",
    "\n",
    "#8 Wygenerowanie macierzy opisujących przestrzenie w dziedzinie częstotliwości dla Leny\n",
    "lenaSize=I_lena.shape\n",
    "FSpaceRows_1 = 2*np.fft.fftshift(np.fft.fftfreq(lenaSize[0]))\n",
    "FSpaceRowsM_1 = np.outer(FSpaceRows_1, np.ones([1, lenaSize[1]]))\n",
    "FSpaceCols_1 = 2*np.fft.fftshift(np.fft.fftfreq(lenaSize[1]))\n",
    "FSpaceColsM_1 = np.outer(np.ones([1, lenaSize[0]]), FSpaceCols_1)  \n",
    "\n",
    "#Wizualizacja filtru\n",
    "figFilter = plt.figure()\n",
    "axsFilter = figFilter.add_subplot(projection='3d')\n",
    "axsFilter.plot_surface(FSpaceRowsM_1, FSpaceColsM_1, Filtr_4[:,:,0], rstride=1, cstride=1, cmap=plt.get_cmap('gray'), linewidth=0)\n",
    "\n",
    "\n",
    "\n",
    "Lena_filtr = f_Fourier_lena*Filtr_4\n",
    "\n",
    "Lena_filtr_2 = odwrotna(Lena_filtr)\n",
    "roznica = np.abs(I_lena-Lena_filtr_2)\n",
    "\n",
    "f, (ax1,ax2,ax3) = plt.subplots(1,3,figsize=(20,6))\n",
    "ax1.imshow(I_lena, 'gray')\n",
    "ax1.axis('off')\n",
    "ax1.set_title('Oryginał')\n",
    "ax2.imshow(Lena_filtr_2, 'gray')\n",
    "ax2.axis('off')\n",
    "ax2.set_title('Filtr')\n",
    "ax3.imshow(roznica, 'gray')\n",
    "ax3.axis('off')\n",
    "ax3.set_title('Roznica')\n",
    "\n",
    "plt.show()\n",
    "\n",
    "\n"
   ]
  }
 ],
 "metadata": {
  "kernelspec": {
   "display_name": "Python 3",
   "language": "python",
   "name": "python3"
  },
  "language_info": {
   "codemirror_mode": {
    "name": "ipython",
    "version": 3
   },
   "file_extension": ".py",
   "mimetype": "text/x-python",
   "name": "python",
   "nbconvert_exporter": "python",
   "pygments_lexer": "ipython3",
   "version": "3.8.8"
  }
 },
 "nbformat": 4,
 "nbformat_minor": 4
}
